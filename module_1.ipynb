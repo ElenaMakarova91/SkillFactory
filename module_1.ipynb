{
  "nbformat": 4,
  "nbformat_minor": 0,
  "metadata": {
    "colab": {
      "name": "module_1",
      "provenance": [],
      "authorship_tag": "ABX9TyPwBtfSxwAfL745pbcpytFW",
      "include_colab_link": true
    },
    "kernelspec": {
      "name": "python3",
      "display_name": "Python 3"
    }
  },
  "cells": [
    {
      "cell_type": "markdown",
      "metadata": {
        "id": "view-in-github",
        "colab_type": "text"
      },
      "source": [
        "<a href=\"https://colab.research.google.com/github/ElenaMakarova91/SkillFactory/blob/main/module_1.ipynb\" target=\"_parent\"><img src=\"https://colab.research.google.com/assets/colab-badge.svg\" alt=\"Open In Colab\"/></a>"
      ]
    },
    {
      "cell_type": "code",
      "metadata": {
        "id": "AB9GgVs3_s1X"
      },
      "source": [
        "import numpy as np\r\n",
        "import pandas as pd\r\n",
        "import seaborn as sns\r\n",
        "import matplotlib.pyplot as plt\r\n",
        "from collections import Counter"
      ],
      "execution_count": 1,
      "outputs": []
    },
    {
      "cell_type": "code",
      "metadata": {
        "colab": {
          "base_uri": "https://localhost:8080/",
          "height": 231
        },
        "id": "AEbXOBh6_1Or",
        "outputId": "a7e97a8e-3e6f-47b9-dd2b-c5409eab51c1"
      },
      "source": [
        "from google.colab import drive\r\n",
        "drive.mount('/content/drive')\r\n",
        "\r\n",
        "data = pd.read_csv('./drive/My Drive/Colab Notebooks/skillfactory/movie_bd_v5.csv')\r\n",
        "data.sample(1)"
      ],
      "execution_count": 2,
      "outputs": [
        {
          "output_type": "stream",
          "text": [
            "Mounted at /content/drive\n"
          ],
          "name": "stdout"
        },
        {
          "output_type": "execute_result",
          "data": {
            "text/html": [
              "<div>\n",
              "<style scoped>\n",
              "    .dataframe tbody tr th:only-of-type {\n",
              "        vertical-align: middle;\n",
              "    }\n",
              "\n",
              "    .dataframe tbody tr th {\n",
              "        vertical-align: top;\n",
              "    }\n",
              "\n",
              "    .dataframe thead th {\n",
              "        text-align: right;\n",
              "    }\n",
              "</style>\n",
              "<table border=\"1\" class=\"dataframe\">\n",
              "  <thead>\n",
              "    <tr style=\"text-align: right;\">\n",
              "      <th></th>\n",
              "      <th>imdb_id</th>\n",
              "      <th>budget</th>\n",
              "      <th>revenue</th>\n",
              "      <th>original_title</th>\n",
              "      <th>cast</th>\n",
              "      <th>director</th>\n",
              "      <th>tagline</th>\n",
              "      <th>overview</th>\n",
              "      <th>runtime</th>\n",
              "      <th>genres</th>\n",
              "      <th>production_companies</th>\n",
              "      <th>release_date</th>\n",
              "      <th>vote_average</th>\n",
              "      <th>release_year</th>\n",
              "    </tr>\n",
              "  </thead>\n",
              "  <tbody>\n",
              "    <tr>\n",
              "      <th>1582</th>\n",
              "      <td>tt0369339</td>\n",
              "      <td>65000000</td>\n",
              "      <td>217764291</td>\n",
              "      <td>Collateral</td>\n",
              "      <td>Tom Cruise|Jamie Foxx|Jada Pinkett Smith|Mark ...</td>\n",
              "      <td>Michael Mann</td>\n",
              "      <td>It started like any other night.</td>\n",
              "      <td>Cab driver Max picks up a man who offers him $...</td>\n",
              "      <td>120</td>\n",
              "      <td>Drama|Crime|Thriller</td>\n",
              "      <td>Paramount Pictures|DreamWorks SKG|Parkes/MacDo...</td>\n",
              "      <td>8/4/2004</td>\n",
              "      <td>6.7</td>\n",
              "      <td>2004</td>\n",
              "    </tr>\n",
              "  </tbody>\n",
              "</table>\n",
              "</div>"
            ],
            "text/plain": [
              "        imdb_id    budget    revenue  ... release_date vote_average release_year\n",
              "1582  tt0369339  65000000  217764291  ...     8/4/2004          6.7         2004\n",
              "\n",
              "[1 rows x 14 columns]"
            ]
          },
          "metadata": {
            "tags": []
          },
          "execution_count": 2
        }
      ]
    },
    {
      "cell_type": "markdown",
      "metadata": {
        "id": "l801G9cEE_08"
      },
      "source": [
        "# Предобработка\r\n"
      ]
    },
    {
      "cell_type": "code",
      "metadata": {
        "colab": {
          "base_uri": "https://localhost:8080/"
        },
        "id": "3FQf0GnCFW8M",
        "outputId": "aea8d0d7-da5b-4ca0-8b92-a8f264a395b2"
      },
      "source": [
        "answers = {} # создадим словарь для ответов\r\n",
        "data.columns = ['id_film', 'budget', 'revenue', 'original_title','actors','director','slogan','obzor','runtime','genres','production_companies','release_date','votes','release_year']\r\n",
        "data.info() # проверим пропуски\r\n"
      ],
      "execution_count": 3,
      "outputs": [
        {
          "output_type": "stream",
          "text": [
            "<class 'pandas.core.frame.DataFrame'>\n",
            "RangeIndex: 1889 entries, 0 to 1888\n",
            "Data columns (total 14 columns):\n",
            " #   Column                Non-Null Count  Dtype  \n",
            "---  ------                --------------  -----  \n",
            " 0   id_film               1889 non-null   object \n",
            " 1   budget                1889 non-null   int64  \n",
            " 2   revenue               1889 non-null   int64  \n",
            " 3   original_title        1889 non-null   object \n",
            " 4   actors                1889 non-null   object \n",
            " 5   director              1889 non-null   object \n",
            " 6   slogan                1889 non-null   object \n",
            " 7   obzor                 1889 non-null   object \n",
            " 8   runtime               1889 non-null   int64  \n",
            " 9   genres                1889 non-null   object \n",
            " 10  production_companies  1889 non-null   object \n",
            " 11  release_date          1889 non-null   object \n",
            " 12  votes                 1889 non-null   float64\n",
            " 13  release_year          1889 non-null   int64  \n",
            "dtypes: float64(1), int64(4), object(9)\n",
            "memory usage: 206.7+ KB\n"
          ],
          "name": "stdout"
        }
      ]
    },
    {
      "cell_type": "code",
      "metadata": {
        "colab": {
          "base_uri": "https://localhost:8080/",
          "height": 284
        },
        "id": "gbWAK1GwXpAM",
        "outputId": "421e96be-6e62-4329-94fd-646d4365e9f5"
      },
      "source": [
        "data.describe()"
      ],
      "execution_count": 4,
      "outputs": [
        {
          "output_type": "execute_result",
          "data": {
            "text/html": [
              "<div>\n",
              "<style scoped>\n",
              "    .dataframe tbody tr th:only-of-type {\n",
              "        vertical-align: middle;\n",
              "    }\n",
              "\n",
              "    .dataframe tbody tr th {\n",
              "        vertical-align: top;\n",
              "    }\n",
              "\n",
              "    .dataframe thead th {\n",
              "        text-align: right;\n",
              "    }\n",
              "</style>\n",
              "<table border=\"1\" class=\"dataframe\">\n",
              "  <thead>\n",
              "    <tr style=\"text-align: right;\">\n",
              "      <th></th>\n",
              "      <th>budget</th>\n",
              "      <th>revenue</th>\n",
              "      <th>runtime</th>\n",
              "      <th>votes</th>\n",
              "      <th>release_year</th>\n",
              "    </tr>\n",
              "  </thead>\n",
              "  <tbody>\n",
              "    <tr>\n",
              "      <th>count</th>\n",
              "      <td>1.889000e+03</td>\n",
              "      <td>1.889000e+03</td>\n",
              "      <td>1889.000000</td>\n",
              "      <td>1889.000000</td>\n",
              "      <td>1889.000000</td>\n",
              "    </tr>\n",
              "    <tr>\n",
              "      <th>mean</th>\n",
              "      <td>5.431083e+07</td>\n",
              "      <td>1.553653e+08</td>\n",
              "      <td>109.658549</td>\n",
              "      <td>6.140762</td>\n",
              "      <td>2007.860773</td>\n",
              "    </tr>\n",
              "    <tr>\n",
              "      <th>std</th>\n",
              "      <td>4.858721e+07</td>\n",
              "      <td>2.146698e+08</td>\n",
              "      <td>18.017041</td>\n",
              "      <td>0.764763</td>\n",
              "      <td>4.468841</td>\n",
              "    </tr>\n",
              "    <tr>\n",
              "      <th>min</th>\n",
              "      <td>5.000000e+06</td>\n",
              "      <td>2.033165e+06</td>\n",
              "      <td>63.000000</td>\n",
              "      <td>3.300000</td>\n",
              "      <td>2000.000000</td>\n",
              "    </tr>\n",
              "    <tr>\n",
              "      <th>25%</th>\n",
              "      <td>2.000000e+07</td>\n",
              "      <td>3.456058e+07</td>\n",
              "      <td>97.000000</td>\n",
              "      <td>5.600000</td>\n",
              "      <td>2004.000000</td>\n",
              "    </tr>\n",
              "    <tr>\n",
              "      <th>50%</th>\n",
              "      <td>3.800000e+07</td>\n",
              "      <td>8.361541e+07</td>\n",
              "      <td>107.000000</td>\n",
              "      <td>6.100000</td>\n",
              "      <td>2008.000000</td>\n",
              "    </tr>\n",
              "    <tr>\n",
              "      <th>75%</th>\n",
              "      <td>7.200000e+07</td>\n",
              "      <td>1.782626e+08</td>\n",
              "      <td>120.000000</td>\n",
              "      <td>6.600000</td>\n",
              "      <td>2012.000000</td>\n",
              "    </tr>\n",
              "    <tr>\n",
              "      <th>max</th>\n",
              "      <td>3.800000e+08</td>\n",
              "      <td>2.781506e+09</td>\n",
              "      <td>214.000000</td>\n",
              "      <td>8.100000</td>\n",
              "      <td>2015.000000</td>\n",
              "    </tr>\n",
              "  </tbody>\n",
              "</table>\n",
              "</div>"
            ],
            "text/plain": [
              "             budget       revenue      runtime        votes  release_year\n",
              "count  1.889000e+03  1.889000e+03  1889.000000  1889.000000   1889.000000\n",
              "mean   5.431083e+07  1.553653e+08   109.658549     6.140762   2007.860773\n",
              "std    4.858721e+07  2.146698e+08    18.017041     0.764763      4.468841\n",
              "min    5.000000e+06  2.033165e+06    63.000000     3.300000   2000.000000\n",
              "25%    2.000000e+07  3.456058e+07    97.000000     5.600000   2004.000000\n",
              "50%    3.800000e+07  8.361541e+07   107.000000     6.100000   2008.000000\n",
              "75%    7.200000e+07  1.782626e+08   120.000000     6.600000   2012.000000\n",
              "max    3.800000e+08  2.781506e+09   214.000000     8.100000   2015.000000"
            ]
          },
          "metadata": {
            "tags": []
          },
          "execution_count": 4
        }
      ]
    },
    {
      "cell_type": "code",
      "metadata": {
        "colab": {
          "base_uri": "https://localhost:8080/",
          "height": 198
        },
        "id": "yPCNWMDdWftI",
        "outputId": "9864b21a-d3fc-4f63-f040-ebea98a16cbd"
      },
      "source": [
        "data.sample(1)"
      ],
      "execution_count": 5,
      "outputs": [
        {
          "output_type": "execute_result",
          "data": {
            "text/html": [
              "<div>\n",
              "<style scoped>\n",
              "    .dataframe tbody tr th:only-of-type {\n",
              "        vertical-align: middle;\n",
              "    }\n",
              "\n",
              "    .dataframe tbody tr th {\n",
              "        vertical-align: top;\n",
              "    }\n",
              "\n",
              "    .dataframe thead th {\n",
              "        text-align: right;\n",
              "    }\n",
              "</style>\n",
              "<table border=\"1\" class=\"dataframe\">\n",
              "  <thead>\n",
              "    <tr style=\"text-align: right;\">\n",
              "      <th></th>\n",
              "      <th>id_film</th>\n",
              "      <th>budget</th>\n",
              "      <th>revenue</th>\n",
              "      <th>original_title</th>\n",
              "      <th>actors</th>\n",
              "      <th>director</th>\n",
              "      <th>slogan</th>\n",
              "      <th>obzor</th>\n",
              "      <th>runtime</th>\n",
              "      <th>genres</th>\n",
              "      <th>production_companies</th>\n",
              "      <th>release_date</th>\n",
              "      <th>votes</th>\n",
              "      <th>release_year</th>\n",
              "    </tr>\n",
              "  </thead>\n",
              "  <tbody>\n",
              "    <tr>\n",
              "      <th>1746</th>\n",
              "      <td>tt0414055</td>\n",
              "      <td>25000000</td>\n",
              "      <td>74237563</td>\n",
              "      <td>Elizabeth: The Golden Age</td>\n",
              "      <td>Cate Blanchett|Clive Owen|Geoffrey Rush|Lauren...</td>\n",
              "      <td>Shekhar Kapur</td>\n",
              "      <td>Woman. Warrior. Queen.</td>\n",
              "      <td>This movie is a Sequel to the First Elizabeth ...</td>\n",
              "      <td>114</td>\n",
              "      <td>Drama|History|Romance</td>\n",
              "      <td>Universal Pictures|StudioCanal|Working Title F...</td>\n",
              "      <td>9/9/2007</td>\n",
              "      <td>6.4</td>\n",
              "      <td>2007</td>\n",
              "    </tr>\n",
              "  </tbody>\n",
              "</table>\n",
              "</div>"
            ],
            "text/plain": [
              "        id_film    budget   revenue  ... release_date votes release_year\n",
              "1746  tt0414055  25000000  74237563  ...     9/9/2007   6.4         2007\n",
              "\n",
              "[1 rows x 14 columns]"
            ]
          },
          "metadata": {
            "tags": []
          },
          "execution_count": 5
        }
      ]
    },
    {
      "cell_type": "code",
      "metadata": {
        "colab": {
          "base_uri": "https://localhost:8080/"
        },
        "id": "8HPOleRPWvZ1",
        "outputId": "b3f79e97-fcbb-4fb1-96e3-e59016cf195d"
      },
      "source": [
        "len(data)"
      ],
      "execution_count": 6,
      "outputs": [
        {
          "output_type": "execute_result",
          "data": {
            "text/plain": [
              "1889"
            ]
          },
          "metadata": {
            "tags": []
          },
          "execution_count": 6
        }
      ]
    },
    {
      "cell_type": "code",
      "metadata": {
        "colab": {
          "base_uri": "https://localhost:8080/"
        },
        "id": "BXEcm1fvXDOd",
        "outputId": "1ab9bc7d-4967-4725-ad10-9a7c80db5d48"
      },
      "source": [
        "data.info() # проверим пропуски"
      ],
      "execution_count": 7,
      "outputs": [
        {
          "output_type": "stream",
          "text": [
            "<class 'pandas.core.frame.DataFrame'>\n",
            "RangeIndex: 1889 entries, 0 to 1888\n",
            "Data columns (total 14 columns):\n",
            " #   Column                Non-Null Count  Dtype  \n",
            "---  ------                --------------  -----  \n",
            " 0   id_film               1889 non-null   object \n",
            " 1   budget                1889 non-null   int64  \n",
            " 2   revenue               1889 non-null   int64  \n",
            " 3   original_title        1889 non-null   object \n",
            " 4   actors                1889 non-null   object \n",
            " 5   director              1889 non-null   object \n",
            " 6   slogan                1889 non-null   object \n",
            " 7   obzor                 1889 non-null   object \n",
            " 8   runtime               1889 non-null   int64  \n",
            " 9   genres                1889 non-null   object \n",
            " 10  production_companies  1889 non-null   object \n",
            " 11  release_date          1889 non-null   object \n",
            " 12  votes                 1889 non-null   float64\n",
            " 13  release_year          1889 non-null   int64  \n",
            "dtypes: float64(1), int64(4), object(9)\n",
            "memory usage: 206.7+ KB\n"
          ],
          "name": "stdout"
        }
      ]
    },
    {
      "cell_type": "markdown",
      "metadata": {
        "id": "rgjf8lEbYEhG"
      },
      "source": [
        "# Вопрос 1. У какого фильма из списка самый большой бюджет?"
      ]
    },
    {
      "cell_type": "code",
      "metadata": {
        "colab": {
          "base_uri": "https://localhost:8080/"
        },
        "id": "6p926iLQYKV_",
        "outputId": "aa3ff0a8-aee6-40f5-8a04-94f4e8007eb7"
      },
      "source": [
        "max_budget = data['budget'].max()\r\n",
        "data.loc[data['budget'] == max_budget, 'original_title']"
      ],
      "execution_count": 8,
      "outputs": [
        {
          "output_type": "execute_result",
          "data": {
            "text/plain": [
              "723    Pirates of the Caribbean: On Stranger Tides\n",
              "Name: original_title, dtype: object"
            ]
          },
          "metadata": {
            "tags": []
          },
          "execution_count": 8
        }
      ]
    },
    {
      "cell_type": "code",
      "metadata": {
        "id": "QOg1vbpUY8_t"
      },
      "source": [
        "answers['1'] = '5. Pirates of the Caribbean: On Stranger Tides (tt1298650)'"
      ],
      "execution_count": 9,
      "outputs": []
    },
    {
      "cell_type": "markdown",
      "metadata": {
        "id": "abZ31PiVbhiF"
      },
      "source": [
        "# Вопрос 2. Какой из фильмов самый длительный (в минутах)?"
      ]
    },
    {
      "cell_type": "code",
      "metadata": {
        "colab": {
          "base_uri": "https://localhost:8080/"
        },
        "id": "C9hiSYoFbTHB",
        "outputId": "5c1d626a-337a-404c-d546-c2773f255b33"
      },
      "source": [
        "max_runtime = data['runtime'].max()\r\n",
        "data.loc[data['runtime'] == max_runtime, 'original_title']"
      ],
      "execution_count": 10,
      "outputs": [
        {
          "output_type": "execute_result",
          "data": {
            "text/plain": [
              "1157    Gods and Generals\n",
              "Name: original_title, dtype: object"
            ]
          },
          "metadata": {
            "tags": []
          },
          "execution_count": 10
        }
      ]
    },
    {
      "cell_type": "code",
      "metadata": {
        "id": "CJafbwrRdZCZ"
      },
      "source": [
        " answers['2'] = '2. Gods and Generals (tt0279111)'"
      ],
      "execution_count": 11,
      "outputs": []
    },
    {
      "cell_type": "markdown",
      "metadata": {
        "id": "YGUE6MBAenny"
      },
      "source": [
        "# Вопрос 3. Какой из фильмов самый короткий (в минутах)?"
      ]
    },
    {
      "cell_type": "code",
      "metadata": {
        "colab": {
          "base_uri": "https://localhost:8080/"
        },
        "id": "-5slVNLVerAe",
        "outputId": "1e7c7fd5-7c00-4d24-b403-d45957a1c371"
      },
      "source": [
        "min_runtime = data['runtime'].min()\r\n",
        "data.loc[data['runtime'] == min_runtime, 'original_title']"
      ],
      "execution_count": 12,
      "outputs": [
        {
          "output_type": "execute_result",
          "data": {
            "text/plain": [
              "768    Winnie the Pooh\n",
              "Name: original_title, dtype: object"
            ]
          },
          "metadata": {
            "tags": []
          },
          "execution_count": 12
        }
      ]
    },
    {
      "cell_type": "code",
      "metadata": {
        "id": "G--_wYIUe--R"
      },
      "source": [
        " answers['3'] = '3. Winnie the Pooh (tt1449283)'"
      ],
      "execution_count": 13,
      "outputs": []
    },
    {
      "cell_type": "markdown",
      "metadata": {
        "id": "SdSj9KOHxIf1"
      },
      "source": [
        "# Вопрос 4. Какова средняя длительность фильмов?"
      ]
    },
    {
      "cell_type": "code",
      "metadata": {
        "colab": {
          "base_uri": "https://localhost:8080/"
        },
        "id": "H6xo3AKAxKbX",
        "outputId": "5546faf3-14f4-456b-815c-65adca75830f"
      },
      "source": [
        "mean_runtime = data['runtime'].mean()\r\n",
        "mean_runtime"
      ],
      "execution_count": 14,
      "outputs": [
        {
          "output_type": "execute_result",
          "data": {
            "text/plain": [
              "109.6585494970884"
            ]
          },
          "metadata": {
            "tags": []
          },
          "execution_count": 14
        }
      ]
    },
    {
      "cell_type": "code",
      "metadata": {
        "id": "ctVLjKuAxej8"
      },
      "source": [
        "answers['4'] = '2. 110'"
      ],
      "execution_count": 15,
      "outputs": []
    },
    {
      "cell_type": "markdown",
      "metadata": {
        "id": "rEq7Tu2AyIAx"
      },
      "source": [
        "# Вопрос 5. Каково медианное значение длительности фильмов?"
      ]
    },
    {
      "cell_type": "code",
      "metadata": {
        "colab": {
          "base_uri": "https://localhost:8080/"
        },
        "id": "4L7XJEElyN1S",
        "outputId": "cc301f2b-6228-4ede-dba5-8275a0b70f8f"
      },
      "source": [
        "median_runtime = data['runtime'].median()\r\n",
        "median_runtime"
      ],
      "execution_count": 16,
      "outputs": [
        {
          "output_type": "execute_result",
          "data": {
            "text/plain": [
              "107.0"
            ]
          },
          "metadata": {
            "tags": []
          },
          "execution_count": 16
        }
      ]
    },
    {
      "cell_type": "code",
      "metadata": {
        "id": "FIAGvNpIyiRI"
      },
      "source": [
        "answers['5'] = '1. 107'"
      ],
      "execution_count": 17,
      "outputs": []
    },
    {
      "cell_type": "markdown",
      "metadata": {
        "id": "JO-VeROWzB1l"
      },
      "source": [
        "# Вопрос 6. Какой фильм самый прибыльный?"
      ]
    },
    {
      "cell_type": "code",
      "metadata": {
        "id": "RemWyrgrzIao"
      },
      "source": [
        "#Здесь и далее под «прибылью» или «убытками» понимается разность между сборами и бюджетом фильма.\r\n",
        "# Прибыль = сборы - бюджет (profit = revenue - budget).\r\n",
        "# Введем новый столбец"
      ],
      "execution_count": 18,
      "outputs": []
    },
    {
      "cell_type": "code",
      "metadata": {
        "id": "C7SRHouLz1XS"
      },
      "source": [
        "data['profit'] = data['revenue'] - data['budget'] "
      ],
      "execution_count": 19,
      "outputs": []
    },
    {
      "cell_type": "code",
      "metadata": {
        "colab": {
          "base_uri": "https://localhost:8080/"
        },
        "id": "GdFjmSKu0MAH",
        "outputId": "21a41d35-ee74-4326-e5ad-b34e2f9f47d0"
      },
      "source": [
        "max_profit = data['profit'].max()\r\n",
        "data.loc[data['profit'] == max_profit, 'original_title']"
      ],
      "execution_count": 20,
      "outputs": [
        {
          "output_type": "execute_result",
          "data": {
            "text/plain": [
              "239    Avatar\n",
              "Name: original_title, dtype: object"
            ]
          },
          "metadata": {
            "tags": []
          },
          "execution_count": 20
        }
      ]
    },
    {
      "cell_type": "code",
      "metadata": {
        "id": "mkCMkM9Y0kjP"
      },
      "source": [
        "answers['6'] = '5. Avatar (tt0499549)'"
      ],
      "execution_count": 21,
      "outputs": []
    },
    {
      "cell_type": "code",
      "metadata": {
        "id": "I-gpxBCj1XvP"
      },
      "source": [
        ""
      ],
      "execution_count": 21,
      "outputs": []
    },
    {
      "cell_type": "markdown",
      "metadata": {
        "id": "Tayf-yqN1YlX"
      },
      "source": [
        "# Вопрос 7. Какой фильм самый убыточный?"
      ]
    },
    {
      "cell_type": "code",
      "metadata": {
        "colab": {
          "base_uri": "https://localhost:8080/"
        },
        "id": "46-XwtsT1ga_",
        "outputId": "bea5cd7c-6de6-4002-e64a-3abff9d77b1d"
      },
      "source": [
        "min_profit = data['profit'].min()\r\n",
        "data.loc[data['profit'] == min_profit, 'original_title']"
      ],
      "execution_count": 22,
      "outputs": [
        {
          "output_type": "execute_result",
          "data": {
            "text/plain": [
              "1245    The Lone Ranger\n",
              "Name: original_title, dtype: object"
            ]
          },
          "metadata": {
            "tags": []
          },
          "execution_count": 22
        }
      ]
    },
    {
      "cell_type": "code",
      "metadata": {
        "id": "4EeziwKz1qQk"
      },
      "source": [
        "answers['7'] = '5. The Lone Ranger (tt1210819)'"
      ],
      "execution_count": 23,
      "outputs": []
    },
    {
      "cell_type": "markdown",
      "metadata": {
        "id": "VR1e9lUi2Zs5"
      },
      "source": [
        "# Вопрос 8. У скольких фильмов из датасета объем сборов оказался выше бюджета?"
      ]
    },
    {
      "cell_type": "code",
      "metadata": {
        "colab": {
          "base_uri": "https://localhost:8080/"
        },
        "id": "bR2sj-rh2cpw",
        "outputId": "1f960115-e676-483e-c9b7-8030225cb32c"
      },
      "source": [
        "len(data.loc[data['revenue'] >data['budget'], 'original_title'])"
      ],
      "execution_count": 24,
      "outputs": [
        {
          "output_type": "execute_result",
          "data": {
            "text/plain": [
              "1478"
            ]
          },
          "metadata": {
            "tags": []
          },
          "execution_count": 24
        }
      ]
    },
    {
      "cell_type": "code",
      "metadata": {
        "id": "63h-kmFf5mTb"
      },
      "source": [
        "answers['8'] = '1. 1478'"
      ],
      "execution_count": 25,
      "outputs": []
    },
    {
      "cell_type": "markdown",
      "metadata": {
        "id": "kJzOQHFx67aH"
      },
      "source": [
        "# Вопрос 9. Какой фильм оказался самым кассовым в 2008 году?"
      ]
    },
    {
      "cell_type": "code",
      "metadata": {
        "id": "rsZmeyMb69b2"
      },
      "source": [
        "max2008=data[data['release_year'] == 2008]['profit'].max()"
      ],
      "execution_count": 26,
      "outputs": []
    },
    {
      "cell_type": "code",
      "metadata": {
        "colab": {
          "base_uri": "https://localhost:8080/"
        },
        "id": "FzQwJfCo_Ug_",
        "outputId": "cd9d8f93-bab2-40b2-e813-46f0ec6a23d1"
      },
      "source": [
        "data.loc[data['profit'] == max2008, 'original_title']"
      ],
      "execution_count": 27,
      "outputs": [
        {
          "output_type": "execute_result",
          "data": {
            "text/plain": [
              "599    The Dark Knight\n",
              "Name: original_title, dtype: object"
            ]
          },
          "metadata": {
            "tags": []
          },
          "execution_count": 27
        }
      ]
    },
    {
      "cell_type": "code",
      "metadata": {
        "id": "DnwCswsY_0D_"
      },
      "source": [
        "answers['9'] = '4. The Dark Knight (tt0468569)'"
      ],
      "execution_count": 28,
      "outputs": []
    },
    {
      "cell_type": "markdown",
      "metadata": {
        "id": "-nAGPA7SAXqr"
      },
      "source": [
        "# Вопрос 10. Самый убыточный фильм за период с 2012 по 2014 годы (включительно)?"
      ]
    },
    {
      "cell_type": "code",
      "metadata": {
        "id": "ij-Tyw0xAajA"
      },
      "source": [
        "min12_14=data[(data['release_year'] >= 2012) &(data['release_year'] <= 2014)]['profit'].min()"
      ],
      "execution_count": 29,
      "outputs": []
    },
    {
      "cell_type": "code",
      "metadata": {
        "colab": {
          "base_uri": "https://localhost:8080/"
        },
        "id": "D0qJgs3SBon0",
        "outputId": "007ca786-a4cf-4db2-daaf-83af35feac08"
      },
      "source": [
        "data.loc[data['profit'] == min12_14, 'original_title']"
      ],
      "execution_count": 30,
      "outputs": [
        {
          "output_type": "execute_result",
          "data": {
            "text/plain": [
              "1245    The Lone Ranger\n",
              "Name: original_title, dtype: object"
            ]
          },
          "metadata": {
            "tags": []
          },
          "execution_count": 30
        }
      ]
    },
    {
      "cell_type": "code",
      "metadata": {
        "id": "sZtLpj9pCjqC"
      },
      "source": [
        "answers['10'] = '5.The Lone Ranger (tt1210819)'"
      ],
      "execution_count": 31,
      "outputs": []
    },
    {
      "cell_type": "markdown",
      "metadata": {
        "id": "03TUBNOXC9ch"
      },
      "source": [
        "# Вопрос 11. Какого жанра фильмов больше всего?"
      ]
    },
    {
      "cell_type": "code",
      "metadata": {
        "colab": {
          "base_uri": "https://localhost:8080/"
        },
        "id": "DQZFI41GC_Nu",
        "outputId": "aaa1c4fe-ceb2-4ab2-ec11-9bdcd87994b8"
      },
      "source": [
        "# столбец 'genres' содержит разделитель '|' между жанрами. Преобразуем\r\n",
        "list=[i.split('|') for i in data['genres']]\r\n",
        "def list_genres(s):\r\n",
        "    result=[]\r\n",
        "    for lst in s:\r\n",
        "      result.extend(lst)\r\n",
        "    return result\r\n",
        "genres_counter=Counter(list_genres(list))\r\n",
        "genres_counter.most_common()\r\n"
      ],
      "execution_count": 32,
      "outputs": [
        {
          "output_type": "execute_result",
          "data": {
            "text/plain": [
              "[('Drama', 782),\n",
              " ('Comedy', 683),\n",
              " ('Thriller', 596),\n",
              " ('Action', 582),\n",
              " ('Adventure', 415),\n",
              " ('Crime', 315),\n",
              " ('Romance', 308),\n",
              " ('Family', 260),\n",
              " ('Science Fiction', 248),\n",
              " ('Fantasy', 222),\n",
              " ('Horror', 176),\n",
              " ('Mystery', 168),\n",
              " ('Animation', 139),\n",
              " ('Music', 64),\n",
              " ('History', 62),\n",
              " ('War', 58),\n",
              " ('Western', 19),\n",
              " ('Documentary', 8),\n",
              " ('Foreign', 2)]"
            ]
          },
          "metadata": {
            "tags": []
          },
          "execution_count": 32
        }
      ]
    },
    {
      "cell_type": "code",
      "metadata": {
        "id": "SjWABTF-FUqe"
      },
      "source": [
        "answers['11'] = '3. Drama'"
      ],
      "execution_count": 33,
      "outputs": []
    },
    {
      "cell_type": "markdown",
      "metadata": {
        "id": "Jad7DTqzazOT"
      },
      "source": [
        "# Вопрос 12. Фильмы какого жанра чаще всего становятся прибыльными?"
      ]
    },
    {
      "cell_type": "code",
      "metadata": {
        "colab": {
          "base_uri": "https://localhost:8080/"
        },
        "id": "nxK0Ac04bTNL",
        "outputId": "098cb0bd-da65-4e1c-9207-1ca5e507c668"
      },
      "source": [
        "f = data[data['profit'] > 0]\r\n",
        "list = [i.split('|') for i in f['genres']]\r\n",
        "genres_counter=Counter(list_genres(list))\r\n",
        "\r\n",
        "genres_counter.most_common()"
      ],
      "execution_count": 34,
      "outputs": [
        {
          "output_type": "execute_result",
          "data": {
            "text/plain": [
              "[('Drama', 560),\n",
              " ('Comedy', 551),\n",
              " ('Thriller', 446),\n",
              " ('Action', 444),\n",
              " ('Adventure', 337),\n",
              " ('Romance', 242),\n",
              " ('Crime', 231),\n",
              " ('Family', 226),\n",
              " ('Science Fiction', 195),\n",
              " ('Fantasy', 188),\n",
              " ('Horror', 150),\n",
              " ('Animation', 120),\n",
              " ('Mystery', 119),\n",
              " ('Music', 47),\n",
              " ('History', 46),\n",
              " ('War', 41),\n",
              " ('Western', 12),\n",
              " ('Documentary', 7)]"
            ]
          },
          "metadata": {
            "tags": []
          },
          "execution_count": 34
        }
      ]
    },
    {
      "cell_type": "code",
      "metadata": {
        "id": "YNC8ZNVvcTeN"
      },
      "source": [
        "answers['12'] = '1. Drama'"
      ],
      "execution_count": 35,
      "outputs": []
    },
    {
      "cell_type": "markdown",
      "metadata": {
        "id": "FdGzApFbckfh"
      },
      "source": [
        "# Вопрос 13. У какого режиссёра самые большие суммарные кассовые сборы?"
      ]
    },
    {
      "cell_type": "code",
      "metadata": {
        "colab": {
          "base_uri": "https://localhost:8080/",
          "height": 0
        },
        "id": "Yk7mKYnFcosJ",
        "outputId": "88910fc6-745a-45bb-f9de-b0e9a32d53a4"
      },
      "source": [
        "data.groupby(['director']).profit.sum().to_frame().reset_index().sort_values(by='profit', ascending=False)"
      ],
      "execution_count": 36,
      "outputs": [
        {
          "output_type": "execute_result",
          "data": {
            "text/html": [
              "<div>\n",
              "<style scoped>\n",
              "    .dataframe tbody tr th:only-of-type {\n",
              "        vertical-align: middle;\n",
              "    }\n",
              "\n",
              "    .dataframe tbody tr th {\n",
              "        vertical-align: top;\n",
              "    }\n",
              "\n",
              "    .dataframe thead th {\n",
              "        text-align: right;\n",
              "    }\n",
              "</style>\n",
              "<table border=\"1\" class=\"dataframe\">\n",
              "  <thead>\n",
              "    <tr style=\"text-align: right;\">\n",
              "      <th></th>\n",
              "      <th>director</th>\n",
              "      <th>profit</th>\n",
              "    </tr>\n",
              "  </thead>\n",
              "  <tbody>\n",
              "    <tr>\n",
              "      <th>689</th>\n",
              "      <td>Peter Jackson</td>\n",
              "      <td>5202593685</td>\n",
              "    </tr>\n",
              "    <tr>\n",
              "      <th>213</th>\n",
              "      <td>David Yates</td>\n",
              "      <td>3379295625</td>\n",
              "    </tr>\n",
              "    <tr>\n",
              "      <th>147</th>\n",
              "      <td>Christopher Nolan</td>\n",
              "      <td>3162548502</td>\n",
              "    </tr>\n",
              "    <tr>\n",
              "      <th>348</th>\n",
              "      <td>J.J. Abrams</td>\n",
              "      <td>2839169916</td>\n",
              "    </tr>\n",
              "    <tr>\n",
              "      <th>587</th>\n",
              "      <td>Michael Bay</td>\n",
              "      <td>2760938960</td>\n",
              "    </tr>\n",
              "    <tr>\n",
              "      <th>...</th>\n",
              "      <td>...</td>\n",
              "      <td>...</td>\n",
              "    </tr>\n",
              "    <tr>\n",
              "      <th>936</th>\n",
              "      <td>Walter Hill|Jack Sholder</td>\n",
              "      <td>-75171919</td>\n",
              "    </tr>\n",
              "    <tr>\n",
              "      <th>186</th>\n",
              "      <td>David Bowers|Sam Fell</td>\n",
              "      <td>-84540684</td>\n",
              "    </tr>\n",
              "    <tr>\n",
              "      <th>688</th>\n",
              "      <td>Peter Hyams</td>\n",
              "      <td>-86956545</td>\n",
              "    </tr>\n",
              "    <tr>\n",
              "      <th>775</th>\n",
              "      <td>Ron Underwood</td>\n",
              "      <td>-92896027</td>\n",
              "    </tr>\n",
              "    <tr>\n",
              "      <th>360</th>\n",
              "      <td>James L. Brooks</td>\n",
              "      <td>-96289726</td>\n",
              "    </tr>\n",
              "  </tbody>\n",
              "</table>\n",
              "<p>957 rows × 2 columns</p>\n",
              "</div>"
            ],
            "text/plain": [
              "                     director      profit\n",
              "689             Peter Jackson  5202593685\n",
              "213               David Yates  3379295625\n",
              "147         Christopher Nolan  3162548502\n",
              "348               J.J. Abrams  2839169916\n",
              "587               Michael Bay  2760938960\n",
              "..                        ...         ...\n",
              "936  Walter Hill|Jack Sholder   -75171919\n",
              "186     David Bowers|Sam Fell   -84540684\n",
              "688               Peter Hyams   -86956545\n",
              "775             Ron Underwood   -92896027\n",
              "360           James L. Brooks   -96289726\n",
              "\n",
              "[957 rows x 2 columns]"
            ]
          },
          "metadata": {
            "tags": []
          },
          "execution_count": 36
        }
      ]
    },
    {
      "cell_type": "code",
      "metadata": {
        "id": "pnVsGMtkczlo"
      },
      "source": [
        "answers['13'] = '5. Peter Jackson'"
      ],
      "execution_count": 37,
      "outputs": []
    },
    {
      "cell_type": "markdown",
      "metadata": {
        "id": "rphvUv9FdFrI"
      },
      "source": [
        "# Вопрос 14. Какой режиссер снял больше всего фильмов в стиле Action?"
      ]
    },
    {
      "cell_type": "code",
      "metadata": {
        "colab": {
          "base_uri": "https://localhost:8080/"
        },
        "id": "DfHKGRQjdJik",
        "outputId": "e30a7305-2ce5-4bbd-f617-fa28d9eb3cb0"
      },
      "source": [
        "import collections\r\n",
        "c = collections.Counter()\r\n",
        "data2 = data[data.genres.str.contains('Action', na = False)]\r\n",
        "collections.Counter(data2['director'].str.cat(sep = '|').split('|')).most_common(1)\r\n"
      ],
      "execution_count": 38,
      "outputs": [
        {
          "output_type": "execute_result",
          "data": {
            "text/plain": [
              "[('Robert Rodriguez', 9)]"
            ]
          },
          "metadata": {
            "tags": []
          },
          "execution_count": 38
        }
      ]
    },
    {
      "cell_type": "code",
      "metadata": {
        "id": "l-i6SsL9dgEG"
      },
      "source": [
        "answers['14'] = '3. Robert Rodriguez'"
      ],
      "execution_count": 39,
      "outputs": []
    },
    {
      "cell_type": "markdown",
      "metadata": {
        "id": "I9XwEKMPdtyA"
      },
      "source": [
        "# Вопрос 15. Фильмы с каким актером принесли самые высокие кассовые сборы в 2012 году?"
      ]
    },
    {
      "cell_type": "code",
      "metadata": {
        "colab": {
          "base_uri": "https://localhost:8080/"
        },
        "id": "WwKhjEG1dvd6",
        "outputId": "6d2a3b0e-63a3-4c5a-c97d-71361d0ad6d6"
      },
      "source": [
        "data2012 = data[data['release_year'] == 2012]\r\n",
        "actor_data = Counter()\r\n",
        "for i in range(len(data2012)):\r\n",
        "     temp_list = data2012.iloc[i]['actors'].split('|')\r\n",
        "     for actor in temp_list:\r\n",
        "         actor_data[actor] += data2012.iloc[i]['profit']\r\n",
        "\r\n",
        "actor_data.most_common(5)"
      ],
      "execution_count": 40,
      "outputs": [
        {
          "output_type": "execute_result",
          "data": {
            "text/plain": [
              "[('Chris Hemsworth', 1542450773),\n",
              " ('Denis Leary', 1319460639),\n",
              " ('Robert Downey Jr.', 1299557910),\n",
              " ('Chris Evans', 1299557910),\n",
              " ('Mark Ruffalo', 1299557910)]"
            ]
          },
          "metadata": {
            "tags": []
          },
          "execution_count": 40
        }
      ]
    },
    {
      "cell_type": "code",
      "metadata": {
        "id": "Qb5znmDzeVku"
      },
      "source": [
        "answers['15'] = '3. Chris Hemsworth'"
      ],
      "execution_count": 41,
      "outputs": []
    },
    {
      "cell_type": "markdown",
      "metadata": {
        "id": "olxknto_W6y7"
      },
      "source": [
        "# Вопрос 16. Какой актер снялся в большем количестве высокобюджетных фильмов? Примечание: в фильмах, где бюджет выше среднего по данной выборке."
      ]
    },
    {
      "cell_type": "code",
      "metadata": {
        "colab": {
          "base_uri": "https://localhost:8080/"
        },
        "id": "xrX1wtI0W_hd",
        "outputId": "4d307ade-f94a-47d0-df4f-797c5c96984a"
      },
      "source": [
        "data_budg = data[(data['budget'] > data['budget'].mean())]['actors']\r\n",
        "actors_list = [i.split('|') for i in data_budg ]\r\n",
        "\r\n",
        "def act_list(list):\r\n",
        "    result=[]\r\n",
        "    for lst in list:\r\n",
        "      result.extend(lst)\r\n",
        "    return result\r\n",
        "#  записываем распакованный список в Counter\r\n",
        "counter=Counter(act_list(actors_list))\r\n",
        "# выводим самое частое значение в списке\r\n",
        "counter.most_common()"
      ],
      "execution_count": 42,
      "outputs": [
        {
          "output_type": "execute_result",
          "data": {
            "text/plain": [
              "[('Matt Damon', 18),\n",
              " ('Adam Sandler', 17),\n",
              " ('Angelina Jolie', 16),\n",
              " ('Tom Cruise', 15),\n",
              " ('Samuel L. Jackson', 15),\n",
              " ('Eddie Murphy', 15),\n",
              " ('Mark Wahlberg', 14),\n",
              " ('Hugh Jackman', 14),\n",
              " ('Ben Stiller', 14),\n",
              " ('Jamie Foxx', 14),\n",
              " ('Russell Crowe', 14),\n",
              " ('Johnny Depp', 13),\n",
              " ('Jude Law', 13),\n",
              " ('Bruce Willis', 13),\n",
              " ('Will Smith', 13),\n",
              " ('Dwayne Johnson', 12),\n",
              " ('Ian McKellen', 12),\n",
              " ('Brad Pitt', 12),\n",
              " ('Owen Wilson', 12),\n",
              " ('Cameron Diaz', 12),\n",
              " ('Nicolas Cage', 12),\n",
              " ('Robert De Niro', 12),\n",
              " ('Leonardo DiCaprio', 11),\n",
              " ('Daniel Craig', 11),\n",
              " ('Robert Downey Jr.', 11),\n",
              " ('Steve Buscemi', 11),\n",
              " ('Vin Diesel', 10),\n",
              " ('Mark Ruffalo', 10),\n",
              " ('Jack Black', 10),\n",
              " ('Denzel Washington', 10),\n",
              " ('Emma Watson', 10),\n",
              " ('Gary Oldman', 10),\n",
              " ('Tom Hanks', 10),\n",
              " ('Orlando Bloom', 10),\n",
              " ('Ralph Fiennes', 9),\n",
              " ('Cate Blanchett', 9),\n",
              " ('Michael Caine', 9),\n",
              " ('Ewan McGregor', 9),\n",
              " ('Paul Bettany', 9),\n",
              " ('Brendan Gleeson', 9),\n",
              " ('Shia LaBeouf', 9),\n",
              " ('Nicole Kidman', 9),\n",
              " ('Colin Farrell', 9),\n",
              " ('Rachel Weisz', 9),\n",
              " ('Halle Berry', 9),\n",
              " ('Charlize Theron', 8),\n",
              " ('Kevin James', 8),\n",
              " ('Chris Hemsworth', 8),\n",
              " ('Helena Bonham Carter', 8),\n",
              " ('Josh Hutcherson', 8),\n",
              " ('George Clooney', 8),\n",
              " ('James Franco', 8),\n",
              " ('Christian Bale', 8),\n",
              " ('Gerard Butler', 8),\n",
              " ('Sylvester Stallone', 8),\n",
              " ('Rosario Dawson', 8),\n",
              " ('Ben Kingsley', 8),\n",
              " ('Bill Nighy', 8),\n",
              " ('Daniel Radcliffe', 8),\n",
              " ('Rupert Grint', 8),\n",
              " ('Jim Carrey', 8),\n",
              " ('Vince Vaughn', 8),\n",
              " ('Alec Baldwin', 8),\n",
              " ('Steve Carell', 8),\n",
              " ('Harrison Ford', 7),\n",
              " ('Jason Statham', 7),\n",
              " ('Chris Evans', 7),\n",
              " ('Woody Harrelson', 7),\n",
              " ('Josh Brolin', 7),\n",
              " ('Jeff Bridges', 7),\n",
              " ('Anne Hathaway', 7),\n",
              " ('Patrick Stewart', 7),\n",
              " ('Jennifer Connelly', 7),\n",
              " ('Anthony Hopkins', 7),\n",
              " ('Morgan Freeman', 7),\n",
              " ('Billy Crudup', 7),\n",
              " ('Jason Lee', 7),\n",
              " ('Jessica Biel', 7),\n",
              " ('Julia Roberts', 7),\n",
              " ('Ryan Reynolds', 7),\n",
              " ('Liam Neeson', 7),\n",
              " ('Karl Urban', 7),\n",
              " ('Richard Jenkins', 7),\n",
              " ('Chris Rock', 7),\n",
              " ('Kate Winslet', 6),\n",
              " ('Paul Walker', 6),\n",
              " ('Arnold Schwarzenegger', 6),\n",
              " ('Sean Bean', 6),\n",
              " ('Scarlett Johansson', 6),\n",
              " ('Elizabeth Banks', 6),\n",
              " ('Ving Rhames', 6),\n",
              " ('Mark Strong', 6),\n",
              " ('Jeffrey Wright', 6),\n",
              " ('Gwyneth Paltrow', 6),\n",
              " ('Matthew McConaughey', 6),\n",
              " ('Rosamund Pike', 6),\n",
              " ('Logan Lerman', 6),\n",
              " ('Robin Williams', 6),\n",
              " ('Stanley Tucci', 6),\n",
              " ('Mel Gibson', 6),\n",
              " ('Kevin Costner', 6),\n",
              " ('John Goodman', 6),\n",
              " ('Aaron Eckhart', 6),\n",
              " ('Justin Long', 6),\n",
              " ('Will Ferrell', 6),\n",
              " ('Seann William Scott', 6),\n",
              " ('Paul Giamatti', 6),\n",
              " ('Dustin Hoffman', 6),\n",
              " ('Mike Myers', 6),\n",
              " ('Eva Mendes', 6),\n",
              " ('Kate Beckinsale', 6),\n",
              " ('Jon Voight', 6),\n",
              " ('Jackie Chan', 6),\n",
              " ('Tobey Maguire', 6),\n",
              " ('Keanu Reeves', 6),\n",
              " ('Guy Pearce', 6),\n",
              " ('John Leguizamo', 6),\n",
              " ('Tommy Lee Jones', 6),\n",
              " ('Michelle Rodriguez', 5),\n",
              " ('Michael PeÃ±a', 5),\n",
              " ('Paul Rudd', 5),\n",
              " ('Jennifer Lawrence', 5),\n",
              " ('Carla Gugino', 5),\n",
              " ('Ioan Gruffudd', 5),\n",
              " ('Simon Pegg', 5),\n",
              " ('Giovanni Ribisi', 5),\n",
              " ('Frances McDormand', 5),\n",
              " ('Elijah Wood', 5),\n",
              " ('Jake Gyllenhaal', 5),\n",
              " ('Sam Worthington', 5),\n",
              " ('Delroy Lindo', 5),\n",
              " ('Bradley Cooper', 5),\n",
              " ('Donald Sutherland', 5),\n",
              " ('Ben Affleck', 5),\n",
              " ('Andy Serkis', 5),\n",
              " ('John Turturro', 5),\n",
              " ('Jonah Hill', 5),\n",
              " ('Julianne Moore', 5),\n",
              " ('John Malkovich', 5),\n",
              " ('Ian McShane', 5),\n",
              " ('Chris Pine', 5),\n",
              " ('Keira Knightley', 5),\n",
              " ('Jessica Alba', 5),\n",
              " ('Eric Bana', 5),\n",
              " ('Benjamin Bratt', 5),\n",
              " ('Hank Azaria', 5),\n",
              " ('John Travolta', 5),\n",
              " ('David Cross', 5),\n",
              " ('Clive Owen', 5),\n",
              " ('Sam Elliott', 5),\n",
              " ('Don Cheadle', 5),\n",
              " ('Ron Perlman', 5),\n",
              " ('Antonio Banderas', 5),\n",
              " ('Peter Sarsgaard', 5),\n",
              " ('Zach Galifianakis', 5),\n",
              " ('Nick Nolte', 5),\n",
              " ('Brendan Fraser', 5),\n",
              " ('Jennifer Aniston', 5),\n",
              " ('Edward Norton', 5),\n",
              " ('Judi Dench', 5),\n",
              " ('John C. Reilly', 5),\n",
              " ('Sacha Baron Cohen', 5),\n",
              " ('Kirsten Dunst', 5),\n",
              " ('Djimon Hounsou', 5),\n",
              " ('Catherine Zeta-Jones', 5),\n",
              " ('Tom Hardy', 4),\n",
              " ('Kristen Wiig', 4),\n",
              " ('Christoph Waltz', 4),\n",
              " ('Michelle Monaghan', 4),\n",
              " ('Liam Hemsworth', 4),\n",
              " ('Amanda Seyfried', 4),\n",
              " ('Steve Martin', 4),\n",
              " ('Ray Winstone', 4),\n",
              " ('Rose Byrne', 4),\n",
              " ('Tom Hiddleston', 4),\n",
              " ('Michael Fassbender', 4),\n",
              " ('Megan Fox', 4),\n",
              " ('Will Arnett', 4),\n",
              " ('William Fichtner', 4),\n",
              " ('Marton Csokas', 4),\n",
              " ('Emma Stone', 4),\n",
              " ('Bill Paxton', 4),\n",
              " ('Joel Edgerton', 4),\n",
              " ('Bryan Cranston', 4),\n",
              " ('Jay Baruchel', 4),\n",
              " ('Eva Green', 4),\n",
              " ('David Wenham', 4),\n",
              " ('Michael Gambon', 4),\n",
              " ('Mickey Rourke', 4),\n",
              " ('Joseph Gordon-Levitt', 4),\n",
              " ('Bill Murray', 4),\n",
              " ('Carrie-Anne Moss', 4),\n",
              " ('Bruce Greenwood', 4),\n",
              " ('Patrick Wilson', 4),\n",
              " ('Chiwetel Ejiofor', 4),\n",
              " ('Thandie Newton', 4),\n",
              " ('Anna Faris', 4),\n",
              " ('Amy Adams', 4),\n",
              " ('Susan Sarandon', 4),\n",
              " ('PenÃ©lope Cruz', 4),\n",
              " ('Jon Favreau', 4),\n",
              " ('Luis GuzmÃ¡n', 4),\n",
              " ('Jason Bateman', 4),\n",
              " ('Seth Rogen', 4),\n",
              " ('Reese Witherspoon', 4),\n",
              " ('Tyrese Gibson', 4),\n",
              " ('Catherine Keener', 4),\n",
              " ('James Cromwell', 4),\n",
              " ('Julie Andrews', 4),\n",
              " ('Alfred Molina', 4),\n",
              " ('Salma Hayek', 4),\n",
              " ('Kristen Stewart', 4),\n",
              " ('Peter Facinelli', 4),\n",
              " ('Jason Isaacs', 4),\n",
              " ('Ashton Kutcher', 4),\n",
              " ('Jack Nicholson', 4),\n",
              " ('Viggo Mortensen', 4),\n",
              " ('Liv Tyler', 4),\n",
              " ('Ed Harris', 4),\n",
              " ('Heath Ledger', 4),\n",
              " ('Kurt Russell', 4),\n",
              " ('Angela Bassett', 4),\n",
              " ('TÃ©a Leoni', 4),\n",
              " ('Terrence Howard', 4),\n",
              " ('Hayden Christensen', 4),\n",
              " ('Terence Stamp', 4),\n",
              " ('Anthony Mackie', 4),\n",
              " ('Zooey Deschanel', 4),\n",
              " ('Matthew Broderick', 4),\n",
              " ('Ed Helms', 4),\n",
              " ('Hugo Weaving', 4),\n",
              " ('Geoffrey Rush', 4),\n",
              " ('Natalie Portman', 4),\n",
              " ('Denis Leary', 4),\n",
              " ('Brian Cox', 4),\n",
              " ('Willem Dafoe', 4),\n",
              " ('Joaquin Phoenix', 4),\n",
              " ('Famke Janssen', 4),\n",
              " ('Peter Stormare', 4),\n",
              " ('Kerry Washington', 4),\n",
              " ('Billy Connolly', 4),\n",
              " ('Drew Barrymore', 4),\n",
              " ('RenÃ©e Zellweger', 4),\n",
              " ('Christopher Walken', 4),\n",
              " ('Bryce Dallas Howard', 3),\n",
              " ('Theo James', 3),\n",
              " ('Miles Teller', 3),\n",
              " ('Jason Clarke', 3),\n",
              " ('Jai Courtney', 3),\n",
              " ('Jessica Chastain', 3),\n",
              " ('Sandra Bullock', 3),\n",
              " ('Michael Keaton', 3),\n",
              " ('Bill Hader', 3),\n",
              " ('Monica Bellucci', 3),\n",
              " ('Mila Kunis', 3),\n",
              " ('Channing Tatum', 3),\n",
              " ('Josh Gad', 3),\n",
              " ('Michael Douglas', 3),\n",
              " ('Bobby Cannavale', 3),\n",
              " ('Hugh Laurie', 3),\n",
              " ('Alexandra Daddario', 3),\n",
              " ('Jeremy Renner', 3),\n",
              " ('Amy Ryan', 3),\n",
              " ('Henry Cavill', 3),\n",
              " ('Armie Hammer', 3),\n",
              " ('Kate Mara', 3),\n",
              " ('Jamie Bell', 3),\n",
              " ('Toby Kebbell', 3),\n",
              " ('Garrett Hedlund', 3),\n",
              " ('Andy Samberg', 3),\n",
              " ('Rachel McAdams', 3),\n",
              " ('Marion Cotillard', 3),\n",
              " ('Charlie Hunnam', 3),\n",
              " ('Casey Affleck', 3),\n",
              " ('Zoe Saldana', 3),\n",
              " ('Robert Redford', 3),\n",
              " ('Martin Freeman', 3),\n",
              " ('Richard Armitage', 3),\n",
              " ('Neil Patrick Harris', 3),\n",
              " ('James McAvoy', 3),\n",
              " ('Li Bingbing', 3),\n",
              " ('Colm Feore', 3),\n",
              " ('Sienna Miller', 3),\n",
              " ('Ken Watanabe', 3),\n",
              " ('Elle Fanning', 3),\n",
              " ('Sharlto Copley', 3),\n",
              " ('Luke Evans', 3),\n",
              " ('Dominic Cooper', 3),\n",
              " ('John Hurt', 3),\n",
              " ('Rufus Sewell', 3),\n",
              " ('Abbie Cornish', 3),\n",
              " ('Jesse Eisenberg', 3),\n",
              " ('Leslie Mann', 3),\n",
              " ('Andy GarcÃ\\xada', 3),\n",
              " ('Emily Browning', 3),\n",
              " ('Miranda Otto', 3),\n",
              " ('William Hurt', 3),\n",
              " ('Stephen Lang', 3),\n",
              " ('Christopher Plummer', 3),\n",
              " ('Malin Ã…kerman', 3),\n",
              " ('Amanda Peet', 3),\n",
              " ('Stellan SkarsgÃ¥rd', 3),\n",
              " ('Dennis Quaid', 3),\n",
              " ('Dakota Fanning', 3),\n",
              " ('Kristen Bell', 3),\n",
              " ('Kiefer Sutherland', 3),\n",
              " ('Robin Wright', 3),\n",
              " ('Josh Duhamel', 3),\n",
              " ('Meryl Streep', 3),\n",
              " ('Olivia Wilde', 3),\n",
              " ('Freddie Highmore', 3),\n",
              " ('Jordana Brewster', 3),\n",
              " ('Radha Mitchell', 3),\n",
              " ('Liev Schreiber', 3),\n",
              " ('Hugh Grant', 3),\n",
              " ('Sarah Jessica Parker', 3),\n",
              " ('Mary Steenburgen', 3),\n",
              " ('Russell Brand', 3),\n",
              " ('Emily Mortimer', 3),\n",
              " ('Skandar Keynes', 3),\n",
              " ('Georgie Henley', 3),\n",
              " ('Jason Flemyng', 3),\n",
              " ('Mary Elizabeth Winstead', 3),\n",
              " ('Brandon T. Jackson', 3),\n",
              " ('Mary-Louise Parker', 3),\n",
              " ('Maria Bello', 3),\n",
              " ('Robert Pattinson', 3),\n",
              " ('Taylor Lautner', 3),\n",
              " ('Greg Kinnear', 3),\n",
              " ('Kristin Davis', 3),\n",
              " ('Chris Noth', 3),\n",
              " ('James Marsden', 3),\n",
              " ('Dan Aykroyd', 3),\n",
              " ('Milla Jovovich', 3),\n",
              " ('Cuba Gooding Jr.', 3),\n",
              " ('Michael Clarke Duncan', 3),\n",
              " ('James Gandolfini', 3),\n",
              " ('Laurence Fishburne', 3),\n",
              " ('Billy Bob Thornton', 3),\n",
              " ('Teri Polo', 3),\n",
              " ('Lucy Liu', 3),\n",
              " ('Jada Pinkett Smith', 3),\n",
              " ('David Schwimmer', 3),\n",
              " ('Jeffrey Tambor', 3),\n",
              " ('Thomas Kretschmann', 3),\n",
              " ('Kenneth Branagh', 3),\n",
              " ('Cliff Curtis', 3),\n",
              " ('Michael Chiklis', 3),\n",
              " ('Jaden Smith', 3),\n",
              " ('Sienna Guillory', 3),\n",
              " ('Al Pacino', 3),\n",
              " ('Spencer Breslin', 3),\n",
              " ('Paula Patton', 3),\n",
              " ('Tim Robbins', 3),\n",
              " ('Justin Bartha', 3),\n",
              " ('Ken Jeong', 3),\n",
              " ('Jane Lynch', 3),\n",
              " ('Isla Fisher', 3),\n",
              " ('CiarÃ¡n Hinds', 3),\n",
              " ('Lily Collins', 3),\n",
              " ('Kevin Bacon', 3),\n",
              " ('Ray Romano', 3),\n",
              " ('Chris Cooper', 3),\n",
              " ('Emma Thompson', 3),\n",
              " ('William Shatner', 3),\n",
              " ('Cole Hauser', 3),\n",
              " ('Randy Quaid', 3),\n",
              " ('Harvey Keitel', 3),\n",
              " ('Scott Glenn', 3),\n",
              " ('David Oyelowo', 3),\n",
              " ('Michelle Pfeiffer', 3),\n",
              " ('David Spade', 3),\n",
              " ('Marisa Tomei', 3),\n",
              " ('Josh Lucas', 3),\n",
              " ('David Thewlis', 3),\n",
              " ('Connie Nielsen', 3),\n",
              " ('Bruce McGill', 3),\n",
              " ('Shirley MacLaine', 3),\n",
              " ('Hiroyuki Sanada', 3),\n",
              " ('Sean Penn', 3),\n",
              " ('Richard Roxburgh', 3),\n",
              " ('Val Kilmer', 3),\n",
              " ('Emmy Rossum', 3),\n",
              " ('Miranda Richardson', 3),\n",
              " ('Chris Pratt', 2),\n",
              " ('Irrfan Khan', 2),\n",
              " ('Nicholas Hoult', 2),\n",
              " ('Shailene Woodley', 2),\n",
              " ('Domhnall Gleeson', 2),\n",
              " ('J.K. Simmons', 2),\n",
              " ('Jeff Daniels', 2),\n",
              " ('Allison Janney', 2),\n",
              " ('Steve Coogan', 2),\n",
              " ('Amy Poehler', 2),\n",
              " ('LÃ©a Seydoux', 2),\n",
              " ('Evangeline Lilly', 2),\n",
              " ('Corey Stoll', 2),\n",
              " ('Colin Firth', 2),\n",
              " ('Giancarlo Esposito', 2),\n",
              " ('Alicia Vikander', 2),\n",
              " ('Elizabeth Debicki', 2),\n",
              " ('Rihanna', 2),\n",
              " ('Jennifer Lopez', 2),\n",
              " ('Edgar RamÃ\\xadrez', 2),\n",
              " ('Teresa Palmer', 2),\n",
              " ('Viola Davis', 2),\n",
              " ('Benjamin Walker', 2),\n",
              " ('Ben Whishaw', 2),\n",
              " ('Rooney Mara', 2),\n",
              " ('Selena Gomez', 2),\n",
              " ('Mia Wasikowska', 2),\n",
              " ('Sebastian Stan', 2),\n",
              " ('Ken Stott', 2),\n",
              " ('Graham McTavish', 2),\n",
              " ('Jamie Chung', 2),\n",
              " ('Rami Malek', 2),\n",
              " ('Ray Stevenson', 2),\n",
              " ('Nicola Peltz', 2),\n",
              " ('Keri Russell', 2),\n",
              " ('ChloÃ« Grace Moretz', 2),\n",
              " ('Andrew Garfield', 2),\n",
              " ('Emily Blunt', 2),\n",
              " ('Aaron Paul', 2),\n",
              " ('Ben Barnes', 2),\n",
              " ('Kit Harington', 2),\n",
              " ('Lena Headey', 2),\n",
              " ('Joel Kinnaman', 2),\n",
              " ('Jackie Earle Haley', 2),\n",
              " ('Adewale Akinnuoye-Agbaje', 2),\n",
              " ('RamÃ³n RodrÃ\\xadguez', 2),\n",
              " ('Yvonne Strahovski', 2),\n",
              " ('Kellan Lutz', 2),\n",
              " ('Sigourney Weaver', 2),\n",
              " ('MÃ©lanie Laurent', 2),\n",
              " ('Julie Walters', 2),\n",
              " ('Zachary Quinto', 2),\n",
              " ('Anton Yelchin', 2),\n",
              " ('Eddie Marsan', 2),\n",
              " ('Jeffrey Dean Morgan', 2),\n",
              " ('John Cusack', 2),\n",
              " ('Oliver Platt', 2),\n",
              " ('Keith David', 2),\n",
              " ('Marlon Wayans', 2),\n",
              " ('James Caan', 2),\n",
              " ('Saoirse Ronan', 2),\n",
              " ('Sam Rockwell', 2),\n",
              " ('Tracy Morgan', 2),\n",
              " ('Zachary Levi', 2),\n",
              " ('Mary Kay Place', 2),\n",
              " ('Michael Cera', 2),\n",
              " ('Oscar Isaac', 2),\n",
              " ('Danny Huston', 2),\n",
              " ('Lynn Collins', 2),\n",
              " ('Jason Segel', 2),\n",
              " ('Dolph Lundgren', 2),\n",
              " ('Michelle Williams', 2),\n",
              " ('Mandy Moore', 2),\n",
              " ('Tim Allen', 2),\n",
              " ('Ned Beatty', 2),\n",
              " ('Joan Cusack', 2),\n",
              " ('Timothy Dalton', 2),\n",
              " ('Gemma Arterton', 2),\n",
              " ('Anna Kendrick', 2),\n",
              " ('Barbra Streisand', 2),\n",
              " ('Helen Mirren', 2),\n",
              " ('Tina Fey', 2),\n",
              " ('Ashley Greene', 2),\n",
              " ('Jordi MollÃ\\xa0', 2),\n",
              " ('Javier Bardem', 2),\n",
              " ('Katherine Heigl', 2),\n",
              " ('Tom Selleck', 2),\n",
              " ('Cynthia Nixon', 2),\n",
              " ('Kim Cattrall', 2),\n",
              " ('Essie Davis', 2),\n",
              " ('Eric Dane', 2),\n",
              " ('Cam Gigandet', 2),\n",
              " ('Julianne Hough', 2),\n",
              " ('Stephanie Szostak', 2),\n",
              " ('Bette Midler', 2),\n",
              " ('Carey Mulligan', 2),\n",
              " ('Justin Timberlake', 2),\n",
              " ('John Cleese', 2),\n",
              " ('Billy Crystal', 2),\n",
              " (\"Frances O'Connor\", 2),\n",
              " ('John Lithgow', 2),\n",
              " ('Josh Hartnett', 2),\n",
              " ('John Hannah', 2),\n",
              " ('Arnold Vosloo', 2),\n",
              " ('Michael J. Fox', 2),\n",
              " ('James Garner', 2),\n",
              " ('Noah Taylor', 2),\n",
              " ('Tim Roth', 2),\n",
              " ('Kris Kristofferson', 2),\n",
              " ('Tom Sizemore', 2),\n",
              " ('Chris Tucker', 2),\n",
              " ('Zhang Ziyi', 2),\n",
              " ('Ernie Reyes, Jr.', 2),\n",
              " ('Elizabeth Perkins', 2),\n",
              " ('Sam Shepard', 2),\n",
              " ('Dylan Baker', 2),\n",
              " ('Gene Hackman', 2),\n",
              " ('Dominic West', 2),\n",
              " ('Edward Burns', 2),\n",
              " ('Martin Landau', 2),\n",
              " ('David Ogden Stiers', 2),\n",
              " ('Courteney Cox', 2),\n",
              " ('David Hyde Pierce', 2),\n",
              " ('Til Schweiger', 2),\n",
              " ('David Andrews', 2),\n",
              " ('William H. Macy', 2),\n",
              " ('Jeff Garlin', 2),\n",
              " ('Olga Kurylenko', 2),\n",
              " ('Jet Li', 2),\n",
              " ('Selma Blair', 2),\n",
              " ('Michael Rooker', 2),\n",
              " ('William Moseley', 2),\n",
              " ('Anna Popplewell', 2),\n",
              " ('Kathy Bates', 2),\n",
              " ('Michael Ealy', 2),\n",
              " ('Malcolm McDowell', 2),\n",
              " ('Alan Arkin', 2),\n",
              " ('Ali Suliman', 2),\n",
              " ('Adam Scott', 2),\n",
              " ('Kate Hudson', 2),\n",
              " ('Ewen Bremner', 2),\n",
              " ('Lambert Wilson', 2),\n",
              " ('Charlotte Rampling', 2),\n",
              " ('Robert Duvall', 2),\n",
              " ('Christina Ricci', 2),\n",
              " ('Matthew Fox', 2),\n",
              " ('Gabriel Macht', 2),\n",
              " ('Paz Vega', 2),\n",
              " ('Kevin Kline', 2),\n",
              " ('Gabrielle Union', 2),\n",
              " ('Goran Visnjic', 2),\n",
              " ('Bailee Madison', 2),\n",
              " ('Noomi Rapace', 2),\n",
              " ('Larry the Cable Guy', 2),\n",
              " ('Eddie Izzard', 2),\n",
              " ('Vanessa Hudgens', 2),\n",
              " ('Emily Watson', 2),\n",
              " ('Asa Butterfield', 2),\n",
              " ('Dominic Purcell', 2),\n",
              " ('Maggie Q', 2),\n",
              " ('Isabel Lucas', 2),\n",
              " ('Katie Holmes', 2),\n",
              " ('Amy Sedaris', 2),\n",
              " ('Jason Momoa', 2),\n",
              " ('Lea Michele', 2),\n",
              " ('Johnny A. Sanchez', 2),\n",
              " ('Seth Green', 2),\n",
              " ('Queen Latifah', 2),\n",
              " ('Richard Harris', 2),\n",
              " ('Franka Potente', 2),\n",
              " ('Ian McDiarmid', 2),\n",
              " ('Max von Sydow', 2),\n",
              " ('Abigail Breslin', 2),\n",
              " ('Elias Koteas', 2),\n",
              " ('Liam Aiken', 2),\n",
              " ('Paul Newman', 2),\n",
              " ('BeyoncÃ© Knowles', 2),\n",
              " ('Mark Addy', 2),\n",
              " ('Adam Beach', 2),\n",
              " ('Izabella Scorupco', 2),\n",
              " ('Naomie Harris', 2),\n",
              " ('Idris Elba', 2),\n",
              " ('Martin Sheen', 2),\n",
              " ('Kevin McKidd', 2),\n",
              " ('Jim Broadbent', 2),\n",
              " ('Jim Sturgess', 2),\n",
              " ('Jonny Lee Miller', 2),\n",
              " ('Timothy Spall', 2),\n",
              " ('Taylor Kitsch', 2),\n",
              " ('Tadanobu Asano', 2),\n",
              " ('Nathan Lane', 2),\n",
              " ('Jack Davenport', 2),\n",
              " ('Claire Danes', 2),\n",
              " ('Jennifer Garner', 2),\n",
              " ('Martin Lawrence', 2),\n",
              " ('TchÃ©ky Karyo', 2),\n",
              " ('Bernie Mac', 2),\n",
              " ('Robert Patrick', 2),\n",
              " ('Steve Zahn', 2),\n",
              " ('Timothy Olyphant', 2),\n",
              " ('Diane Lane', 2),\n",
              " ('Jodie Foster', 2),\n",
              " ('Alice Braga', 2),\n",
              " ('Diego Luna', 2),\n",
              " ('James Badge Dale', 2),\n",
              " ('Patton Oswalt', 2),\n",
              " ('Cloris Leachman', 2),\n",
              " ('Max Martini', 2),\n",
              " ('Maggie Gyllenhaal', 2),\n",
              " ('Sung Kang', 2),\n",
              " ('Sophie Okonedo', 2),\n",
              " ('Zach Braff', 2),\n",
              " ('Jim Belushi', 2),\n",
              " ('AnnaSophia Robb', 2),\n",
              " ('Julian McMahon', 2),\n",
              " ('Lauren Graham', 2),\n",
              " ('Gong Li', 2),\n",
              " ('Amber Valletta', 2),\n",
              " ('Jeremy Irons', 2),\n",
              " ('Adrien Brody', 2),\n",
              " ('Lucas Black', 2),\n",
              " ('Donal Logue', 2),\n",
              " ('Paddy Considine', 2),\n",
              " ('Bonnie Hunt', 2),\n",
              " ('Yvan Attal', 2),\n",
              " ('Mads Mikkelsen', 2),\n",
              " ('Jean Reno', 2),\n",
              " ('Philip Seymour Hoffman', 2),\n",
              " ('Jonathan Rhys Meyers', 2),\n",
              " ('David Strathairn', 2),\n",
              " ('Sharon Stone', 2),\n",
              " ('Jacinda Barrett', 2),\n",
              " ('Gary Sinise', 2),\n",
              " ('Danny Glover', 2),\n",
              " ('Julia Stiles', 2),\n",
              " ('Diane Kruger', 2),\n",
              " ('Chi McBride', 2),\n",
              " ('Jane Krakowski', 2),\n",
              " ('Glenn Close', 2),\n",
              " ('Patrick Warburton', 2),\n",
              " ('John Michael Higgins', 2),\n",
              " ('Helen Hunt', 2),\n",
              " (\"Vincent D'Onofrio\", 1),\n",
              " ('Nick Robinson', 1),\n",
              " ('Hugh Keays-Byrne', 1),\n",
              " ('Josh Helman', 1),\n",
              " ('Ansel Elgort', 1),\n",
              " ('Mark Hamill', 1),\n",
              " ('Carrie Fisher', 1),\n",
              " ('Adam Driver', 1),\n",
              " ('Daisy Ridley', 1),\n",
              " ('Will Poulter', 1),\n",
              " ('Paul Anderson', 1),\n",
              " ('Emilia Clarke', 1),\n",
              " ('Jon Hamm', 1),\n",
              " ('Phyllis Smith', 1),\n",
              " ('Richard Kind', 1),\n",
              " ('Lewis Black', 1),\n",
              " ('Eddie Redmayne', 1),\n",
              " ('Douglas Booth', 1),\n",
              " ('Peter Dinklage', 1),\n",
              " ('Lily James', 1),\n",
              " ('Richard Madden', 1),\n",
              " ('Holliday Grainger', 1),\n",
              " ('Britt Robertson', 1),\n",
              " ('Raffey Cassidy', 1),\n",
              " ('Thomas Robinson', 1),\n",
              " ('Archie Panjabi', 1),\n",
              " ('Rebecca Ferguson', 1),\n",
              " ('Seth MacFarlane', 1),\n",
              " ('Jessica Barth', 1),\n",
              " ('Taron Egerton', 1),\n",
              " (\"Dylan O'Brien\", 1),\n",
              " ('Kaya Scodelario', 1),\n",
              " ('Thomas Brodie-Sangster', 1),\n",
              " ('Aidan Gillen', 1),\n",
              " ('Dylan Minnette', 1),\n",
              " ('Odeya Rush', 1),\n",
              " ('Jillian Bell', 1),\n",
              " ('Raymond Ochoa', 1),\n",
              " ('Jack Bright', 1),\n",
              " ('Maleah Nipay-Padilla', 1),\n",
              " ('Rose Leslie', 1),\n",
              " ('Ã“lafur Darri Ã“lafsson', 1),\n",
              " ('Luca Calvani', 1),\n",
              " ('Jim Parsons', 1),\n",
              " ('Matt Jones', 1),\n",
              " ('John Hawkes', 1),\n",
              " ('Luke Bracey', 1),\n",
              " ('Olivia Munn', 1),\n",
              " ('Leehom Wang', 1),\n",
              " ('Tang Wei', 1),\n",
              " ('Holt McCallany', 1),\n",
              " ('Michael B. Jordan', 1),\n",
              " ('Melissa McCarthy', 1),\n",
              " ('Miranda Hart', 1),\n",
              " ('Cillian Murphy', 1),\n",
              " ('Levi Miller', 1),\n",
              " ('Noah Schnapp', 1),\n",
              " ('Bill Melendez', 1),\n",
              " ('Venus Schultheis', 1),\n",
              " ('Hadley Belle Miller', 1),\n",
              " ('Madisyn Shipman', 1),\n",
              " ('Jim Beaver', 1),\n",
              " ('Tom Kenny', 1),\n",
              " ('Bill Fagerbakke', 1),\n",
              " ('Rodger Bumpass', 1),\n",
              " ('Clancy Brown', 1),\n",
              " ('Carolyn Lawrence', 1),\n",
              " ('Dave Bautista', 1),\n",
              " ('Scott Adsit', 1),\n",
              " ('Ryan Potter', 1),\n",
              " ('Daniel Henney', 1),\n",
              " ('T.J. Miller', 1),\n",
              " ('Carrie Coon', 1),\n",
              " ('Tyler Perry', 1),\n",
              " ('Jon Bernthal', 1),\n",
              " ('Rebel Wilson', 1),\n",
              " ('Alan Ritchson', 1),\n",
              " ('Noel Fisher', 1),\n",
              " ('Jack Reynor', 1),\n",
              " ('Judy Greer', 1),\n",
              " ('David Harbour', 1),\n",
              " ('Haley Bennett', 1),\n",
              " ('Dane DeHaan', 1),\n",
              " ('Jonas Armstrong', 1),\n",
              " ('Kyle Gallner', 1),\n",
              " ('Cole Konis', 1),\n",
              " ('Ben Reed', 1),\n",
              " ('Ben Mendelsohn', 1),\n",
              " ('Aaron Taylor-Johnson', 1),\n",
              " ('Elizabeth Olsen', 1),\n",
              " ('Juliette Binoche', 1),\n",
              " ('Juno Temple', 1),\n",
              " ('Isobelle Molloy', 1),\n",
              " ('Craig Berry', 1),\n",
              " ('Alison Brie', 1),\n",
              " ('David Burrows', 1),\n",
              " ('Sarah Gadon', 1),\n",
              " ('Art Parkinson', 1),\n",
              " ('Charles Dance', 1),\n",
              " ('Tom McGrath', 1),\n",
              " ('Chris Miller', 1),\n",
              " ('Christopher Knights', 1),\n",
              " ('Conrad Vernon', 1),\n",
              " ('Sullivan Stapleton', 1),\n",
              " ('Callan Mulvey', 1),\n",
              " ('Peter Capaldi', 1),\n",
              " ('Imelda Staunton', 1),\n",
              " ('Aksel Hennie', 1),\n",
              " ('Nonso Anozie', 1),\n",
              " ('Gemma Chan', 1),\n",
              " ('Rebecca Hall', 1),\n",
              " ('Ty Burrell', 1),\n",
              " ('Max Charles', 1),\n",
              " ('Ariel Winter', 1),\n",
              " ('Ellie Kemper', 1),\n",
              " (\"Jack O'Connell\", 1),\n",
              " ('Takamasa Ishihara', 1),\n",
              " ('Finn Wittrock', 1),\n",
              " ('Jessica Lucas', 1),\n",
              " ('QuvenzhanÃ© Wallis', 1),\n",
              " ('Imogen Poots', 1),\n",
              " ('Isaac Hempstead Wright', 1),\n",
              " ('Dee Bradley Baker', 1),\n",
              " ('Steve Blum', 1),\n",
              " ('Jessica Brown Findlay', 1),\n",
              " ('Liam McIntyre', 1),\n",
              " ('Gaia Weiss', 1),\n",
              " ('Scott Adkins', 1),\n",
              " ('Roxanne McKee', 1),\n",
              " ('Eli Roth', 1),\n",
              " ('Tom Felton', 1),\n",
              " ('Ed Asner', 1),\n",
              " ('Jordan Nagai', 1),\n",
              " ('Bob Peterson', 1),\n",
              " ('Leonard Nimoy', 1),\n",
              " ('Moon Bloodgood', 1),\n",
              " ('Ayelet Zurer', 1),\n",
              " ('Pierfrancesco Favino', 1),\n",
              " ('Anika Noni Rose', 1),\n",
              " ('Bruno Campos', 1),\n",
              " ('Michael-Leon Wooley', 1),\n",
              " ('Jennifer Cody', 1),\n",
              " ('Mr. T', 1),\n",
              " ('Teri Hatcher', 1),\n",
              " ('Jennifer Saunders', 1),\n",
              " ('Dawn French', 1),\n",
              " ('Steve Valentine', 1),\n",
              " ('Daryl Sabara', 1),\n",
              " ('Sage Ryan', 1),\n",
              " ('Victor Gojcaj', 1),\n",
              " ('Matthew Gray Gubler', 1),\n",
              " ('Rainn Wilson', 1),\n",
              " ('Lake Bell', 1),\n",
              " ('Anna Friel', 1),\n",
              " ('Danny McBride', 1),\n",
              " ('Jorma Taccone', 1),\n",
              " ('Matt Lauer', 1),\n",
              " ('Tony Kgoroge', 1),\n",
              " ('Patrick Mofokeng', 1),\n",
              " ('Matt Stern', 1),\n",
              " ('Max Minghella', 1),\n",
              " ('Ashraf Barhom', 1),\n",
              " ('Michael Lonsdale', 1),\n",
              " ('John Ortiz', 1),\n",
              " ('Tom Wilkinson', 1),\n",
              " ('Lisa Roberts Gillan', 1),\n",
              " ('Nelsan Ellis', 1),\n",
              " ('Michael Bunin', 1),\n",
              " ('Natalia Klimas', 1),\n",
              " ('Ellen Page', 1),\n",
              " ('Crispin Glover', 1),\n",
              " ('Eric Roberts', 1),\n",
              " ('Randy Couture', 1),\n",
              " ('Craig Ferguson', 1),\n",
              " ('America Ferrera', 1),\n",
              " ('Bruce Boxleitner', 1),\n",
              " ('Yaya DaCosta', 1),\n",
              " ('Donna Murphy', 1),\n",
              " ('M.C. Gainey', 1),\n",
              " ('Daniel Olbrychski', 1),\n",
              " ('Gary Sweet', 1),\n",
              " ('Arthur Angel', 1),\n",
              " ('Steven Berkoff', 1),\n",
              " ('Steve Toussaint', 1),\n",
              " ('Kieran Culkin', 1),\n",
              " ('Jake Abel', 1),\n",
              " ('Ethan Suplee', 1),\n",
              " ('Kevin Corrigan', 1),\n",
              " ('Maya Rudolph', 1),\n",
              " ('Jennifer Beals', 1),\n",
              " ('Taraji P. Henson', 1),\n",
              " ('Jimmi Simpson', 1),\n",
              " ('Noah Ringer', 1),\n",
              " ('Jackson Rathbone', 1),\n",
              " ('Dev Patel', 1),\n",
              " ('Shaun Toub', 1),\n",
              " (\"Chris O'Dowd\", 1),\n",
              " ('Juliette Lewis', 1),\n",
              " (\"Catherine O'Hara\", 1),\n",
              " ('Alex Borstein', 1),\n",
              " ('Emily Barclay', 1),\n",
              " ('Deborra-Lee Furness', 1),\n",
              " ('Cher', 1),\n",
              " ('Christina Aguilera', 1),\n",
              " ('Jemaine Clement', 1),\n",
              " ('Christina Applegate', 1),\n",
              " ('Pascale Hutton', 1),\n",
              " ('Kathryn Hahn', 1),\n",
              " ('Frank Langella', 1),\n",
              " ('Tom Cavanagh', 1),\n",
              " ('Christine Taylor', 1),\n",
              " ('Shawn Roberts', 1),\n",
              " (\"Denis O'Hare\", 1),\n",
              " ('Wentworth Miller', 1),\n",
              " ('Ali Larter', 1),\n",
              " ('Kim Coates', 1),\n",
              " ('Kacey Barnfield', 1),\n",
              " ('Robbie Coltrane', 1),\n",
              " ('Mary Gibbs', 1),\n",
              " ('James Coburn', 1),\n",
              " ('Haley Joel Osment', 1),\n",
              " ('Sam Robards', 1),\n",
              " ('Jake Thomas', 1),\n",
              " ('Vincent Cassel', 1),\n",
              " ('Oded Fehr', 1),\n",
              " ('Corey Burton', 1),\n",
              " ('Claudia Christian', 1),\n",
              " ('John Mahoney', 1),\n",
              " ('Iain Glen', 1),\n",
              " ('Joseph Fiennes', 1),\n",
              " ('Bob Hoskins', 1),\n",
              " ('Shannyn Sossamon', 1),\n",
              " ('Laura Fraser', 1),\n",
              " ('Roselyn SÃ¡nchez', 1),\n",
              " ('Jeff Goldblum', 1),\n",
              " ('Alexander Pollock', 1),\n",
              " ('Miriam Margolyes', 1),\n",
              " ('Catherine McCormack', 1),\n",
              " ('Stephen Dillane', 1),\n",
              " ('Larry Bryggman', 1),\n",
              " ('Ming-Na Wen', 1),\n",
              " ('Kristen Wilson', 1),\n",
              " ('Raven-SymonÃ©', 1),\n",
              " ('Kyla Pratt', 1),\n",
              " ('Steve Burton', 1),\n",
              " ('Monica Potter', 1),\n",
              " ('Michael Wincott', 1),\n",
              " ('Mika Boorem', 1),\n",
              " ('Jason Bonham', 1),\n",
              " ('Kelsey Grammer', 1),\n",
              " ('Avery Brooks', 1),\n",
              " ('David Duchovny', 1),\n",
              " ('Orlando Jones', 1),\n",
              " ('Ted Levine', 1),\n",
              " ('Mario Van Peebles', 1),\n",
              " ('Ron Silver', 1),\n",
              " ('Marlon Brando', 1),\n",
              " ('Paul Soles', 1),\n",
              " ('Laurie Holden', 1),\n",
              " ('Hal Holbrook', 1),\n",
              " ('Christian Slater', 1),\n",
              " ('Kevin Pollak', 1),\n",
              " ('Brandy Norwood', 1),\n",
              " ('Troy Garity', 1),\n",
              " ('William Converse-Roberts', 1),\n",
              " ('Kip Pardue', 1),\n",
              " ('Robert Sean Leonard', 1),\n",
              " ('Estella Warren', 1),\n",
              " ('Ray Liotta', 1),\n",
              " (\"Matt O'Leary\", 1),\n",
              " ('Bridget Fonda', 1),\n",
              " ('Chris Kattan', 1),\n",
              " ('Sam Neill', 1),\n",
              " ('Trevor Morgan', 1),\n",
              " ('Alessandro Nivola', 1),\n",
              " ('Ben Burtt', 1),\n",
              " ('Elissa Knight', 1),\n",
              " ('Fred Willard', 1),\n",
              " ('John Ratzenberger', 1),\n",
              " ('Leslie Bibb', 1),\n",
              " ('Karen Allen', 1),\n",
              " ('Mathieu Amalric', 1),\n",
              " ('Giancarlo Giannini', 1),\n",
              " ('Tilda Swinton', 1),\n",
              " ('Julia Ormond', 1),\n",
              " ('Luke Ford', 1),\n",
              " ('Tim Blake Nelson', 1),\n",
              " ('Cedric the Entertainer', 1),\n",
              " ('Doug Jones', 1),\n",
              " ('Rachel Bilson', 1),\n",
              " ('Carice van Houten', 1),\n",
              " ('Steven Strait', 1),\n",
              " ('Camilla Belle', 1),\n",
              " ('Nathanael Baring', 1),\n",
              " ('Mo Zinal', 1),\n",
              " ('Jae Head', 1),\n",
              " ('Sarah Jane Morris', 1),\n",
              " ('Miley Cyrus', 1),\n",
              " ('Susie Essman', 1),\n",
              " ('Mark Walton', 1),\n",
              " ('Bryan Brown', 1),\n",
              " ('Rhys Darby', 1),\n",
              " ('Sasha Alexander', 1),\n",
              " ('Fionnula Flanagan', 1),\n",
              " ('Kathleen Turner', 1),\n",
              " ('Simon McBurney', 1),\n",
              " ('Eliza Bennett', 1),\n",
              " ('Alexis Dziena', 1),\n",
              " ('Lucy Lawless', 1),\n",
              " ('Michelle Yeoh', 1),\n",
              " ('MÃ©lanie Thierry', 1),\n",
              " ('Jeffrey Donovan', 1),\n",
              " ('Geoff Pierson', 1),\n",
              " ('Sarah Bolger', 1),\n",
              " ('Andrew McCarthy', 1),\n",
              " ('Dwight Yoakam', 1),\n",
              " ('Romany Malco', 1),\n",
              " ('Meagan Good', 1),\n",
              " ('Emile Hirsch', 1),\n",
              " ('Scott Porter', 1),\n",
              " ('Carol Burnett', 1),\n",
              " ('Michael Angarano', 1),\n",
              " ('Collin Chou', 1),\n",
              " ('50 Cent', 1),\n",
              " ('Donnie Wahlberg', 1),\n",
              " ('Emmanuelle Chriqui', 1),\n",
              " ('Nick Swardson', 1),\n",
              " ('Lainie Kazan', 1),\n",
              " ('Harry Treadaway', 1),\n",
              " ('Betty Buckley', 1),\n",
              " ('Tracey Ullman', 1),\n",
              " ('Scott Caan', 1),\n",
              " ('Hayley Atwell', 1),\n",
              " ('Alan Rickman', 1),\n",
              " ('Maggie Smith', 1),\n",
              " ('Kevin McNally', 1),\n",
              " ('Karin Konoval', 1),\n",
              " ('Freida Pinto', 1),\n",
              " ('Anil Kapoor', 1),\n",
              " ('Griffin Gluck', 1),\n",
              " ('Dakota Goyo', 1),\n",
              " ('Kevin Durand', 1),\n",
              " ('Jared Harris', 1),\n",
              " ('Kelly Reilly', 1),\n",
              " ('Blake Lively', 1),\n",
              " ('Nick Frost', 1),\n",
              " ('Jena Malone', 1),\n",
              " ('Will.i.am', 1),\n",
              " ('Walton Goggins', 1),\n",
              " ('Benedict Cumberbatch', 1),\n",
              " ('Jeremy Irvine', 1),\n",
              " ('Violante Placido', 1),\n",
              " ('Fergus Riordan', 1),\n",
              " ('Johnny Whitworth', 1),\n",
              " ('Matthew Macfadyen', 1),\n",
              " ('Will Rothhaar', 1),\n",
              " ('Cory Hardrict', 1),\n",
              " ('Jim Parrack', 1),\n",
              " ('Eugenio Derbez', 1),\n",
              " ('Tim Meadows', 1),\n",
              " ('Jay Chou', 1),\n",
              " ('Edward Furlong', 1),\n",
              " ('Rose McGowan', 1),\n",
              " ('Rachel Nichols', 1),\n",
              " ('Alan Alda', 1),\n",
              " ('Pink', 1),\n",
              " ('E.G. Daily', 1),\n",
              " ('Dan Fogler', 1),\n",
              " ('Breckin Meyer', 1),\n",
              " ('Elisabeth Harnois', 1),\n",
              " ('Jenny Slate', 1),\n",
              " ('Andy Buckley', 1),\n",
              " ('Jayma Mays', 1),\n",
              " ('Alan Cumming', 1),\n",
              " ...]"
            ]
          },
          "metadata": {
            "tags": []
          },
          "execution_count": 42
        }
      ]
    },
    {
      "cell_type": "code",
      "metadata": {
        "id": "sk2AXAUwYOPa"
      },
      "source": [
        "answers['16'] = '3. Matt Damon'"
      ],
      "execution_count": 43,
      "outputs": []
    },
    {
      "cell_type": "markdown",
      "metadata": {
        "id": "69Sk1BNVYgEM"
      },
      "source": [
        "# Вопрос 17. В фильмах какого жанра больше всего снимался Nicolas Cage?"
      ]
    },
    {
      "cell_type": "code",
      "metadata": {
        "colab": {
          "base_uri": "https://localhost:8080/"
        },
        "id": "trrL7Si4Ykxd",
        "outputId": "9d5ee8cd-40db-4177-e949-ab1bc76daa6b"
      },
      "source": [
        "# сначала сделаем фрагмент датафрейма с фильмами в которых снимался Nicolas Cage \r\n",
        "NC = data[data['actors'].str.contains('Nicolas Cage')]\r\n",
        "\r\n",
        "# теперь возьмем код, который использовали для подсчета фильмов по жанрам (вопрос 11)\r\n",
        "list=[i.split('|') for i in NC['genres']]\r\n",
        "def list_genres(s):\r\n",
        "    result=[]\r\n",
        "    for lst in s:\r\n",
        "      result.extend(lst)\r\n",
        "    return result\r\n",
        "genres_counter=Counter(list_genres(list))\r\n",
        "genres_counter.most_common(5)\r\n"
      ],
      "execution_count": 44,
      "outputs": [
        {
          "output_type": "execute_result",
          "data": {
            "text/plain": [
              "[('Action', 17),\n",
              " ('Thriller', 15),\n",
              " ('Drama', 12),\n",
              " ('Crime', 10),\n",
              " ('Fantasy', 8)]"
            ]
          },
          "metadata": {
            "tags": []
          },
          "execution_count": 44
        }
      ]
    },
    {
      "cell_type": "code",
      "metadata": {
        "id": "O_4uBkolbBYR"
      },
      "source": [
        "answers['17'] = '2. Action'"
      ],
      "execution_count": 45,
      "outputs": []
    },
    {
      "cell_type": "markdown",
      "metadata": {
        "id": "Tl7pGDI0FU-L"
      },
      "source": [
        "# Вопрос 18. Самый убыточный фильм от Paramount Pictures?"
      ]
    },
    {
      "cell_type": "code",
      "metadata": {
        "colab": {
          "base_uri": "https://localhost:8080/",
          "height": 0
        },
        "id": "yMQSn4QhFWpG",
        "outputId": "8a0fd4b3-c782-4ba1-ab99-f37bc9e91e3e"
      },
      "source": [
        "data[data['production_companies'].str.contains('Paramount Pictures')].sort_values('profit')[['profit', 'original_title']]"
      ],
      "execution_count": 46,
      "outputs": [
        {
          "output_type": "execute_result",
          "data": {
            "text/html": [
              "<div>\n",
              "<style scoped>\n",
              "    .dataframe tbody tr th:only-of-type {\n",
              "        vertical-align: middle;\n",
              "    }\n",
              "\n",
              "    .dataframe tbody tr th {\n",
              "        vertical-align: top;\n",
              "    }\n",
              "\n",
              "    .dataframe thead th {\n",
              "        text-align: right;\n",
              "    }\n",
              "</style>\n",
              "<table border=\"1\" class=\"dataframe\">\n",
              "  <thead>\n",
              "    <tr style=\"text-align: right;\">\n",
              "      <th></th>\n",
              "      <th>profit</th>\n",
              "      <th>original_title</th>\n",
              "    </tr>\n",
              "  </thead>\n",
              "  <tbody>\n",
              "    <tr>\n",
              "      <th>925</th>\n",
              "      <td>-64831034</td>\n",
              "      <td>K-19: The Widowmaker</td>\n",
              "    </tr>\n",
              "    <tr>\n",
              "      <th>1123</th>\n",
              "      <td>-60519261</td>\n",
              "      <td>Timeline</td>\n",
              "    </tr>\n",
              "    <tr>\n",
              "      <th>1722</th>\n",
              "      <td>-51788987</td>\n",
              "      <td>Next</td>\n",
              "    </tr>\n",
              "    <tr>\n",
              "      <th>1623</th>\n",
              "      <td>-46604061</td>\n",
              "      <td>Alfie</td>\n",
              "    </tr>\n",
              "    <tr>\n",
              "      <th>1631</th>\n",
              "      <td>-24805000</td>\n",
              "      <td>Twisted</td>\n",
              "    </tr>\n",
              "    <tr>\n",
              "      <th>...</th>\n",
              "      <td>...</td>\n",
              "      <td>...</td>\n",
              "    </tr>\n",
              "    <tr>\n",
              "      <th>730</th>\n",
              "      <td>549713380</td>\n",
              "      <td>Mission: Impossible - Ghost Protocol</td>\n",
              "    </tr>\n",
              "    <tr>\n",
              "      <th>1738</th>\n",
              "      <td>559709780</td>\n",
              "      <td>Transformers</td>\n",
              "    </tr>\n",
              "    <tr>\n",
              "      <th>603</th>\n",
              "      <td>601636033</td>\n",
              "      <td>Indiana Jones and the Kingdom of the Crystal S...</td>\n",
              "    </tr>\n",
              "    <tr>\n",
              "      <th>317</th>\n",
              "      <td>686297228</td>\n",
              "      <td>Transformers: Revenge of the Fallen</td>\n",
              "    </tr>\n",
              "    <tr>\n",
              "      <th>828</th>\n",
              "      <td>928746996</td>\n",
              "      <td>Transformers: Dark of the Moon</td>\n",
              "    </tr>\n",
              "  </tbody>\n",
              "</table>\n",
              "<p>122 rows × 2 columns</p>\n",
              "</div>"
            ],
            "text/plain": [
              "         profit                                     original_title\n",
              "925   -64831034                               K-19: The Widowmaker\n",
              "1123  -60519261                                           Timeline\n",
              "1722  -51788987                                               Next\n",
              "1623  -46604061                                              Alfie\n",
              "1631  -24805000                                            Twisted\n",
              "...         ...                                                ...\n",
              "730   549713380               Mission: Impossible - Ghost Protocol\n",
              "1738  559709780                                       Transformers\n",
              "603   601636033  Indiana Jones and the Kingdom of the Crystal S...\n",
              "317   686297228                Transformers: Revenge of the Fallen\n",
              "828   928746996                     Transformers: Dark of the Moon\n",
              "\n",
              "[122 rows x 2 columns]"
            ]
          },
          "metadata": {
            "tags": []
          },
          "execution_count": 46
        }
      ]
    },
    {
      "cell_type": "code",
      "metadata": {
        "id": "w6pGnwHkFi3-"
      },
      "source": [
        "answers['18'] = '1. K-19: The Widowmaker (tt0267626)n'"
      ],
      "execution_count": 47,
      "outputs": []
    },
    {
      "cell_type": "markdown",
      "metadata": {
        "id": "l-YIpDV9F2IH"
      },
      "source": [
        "# Вопрос 19. Какой год стал самым успешным по суммарным кассовым сборам?"
      ]
    },
    {
      "cell_type": "code",
      "metadata": {
        "colab": {
          "base_uri": "https://localhost:8080/"
        },
        "id": "1o0OHlVkF36R",
        "outputId": "e1d44c4e-389a-4d89-8f58-a8ea52518710"
      },
      "source": [
        "data.groupby('release_year')['profit'].sum().sort_values(ascending=False)"
      ],
      "execution_count": 48,
      "outputs": [
        {
          "output_type": "execute_result",
          "data": {
            "text/plain": [
              "release_year\n",
              "2015    18668572378\n",
              "2014    16397812953\n",
              "2012    16077001687\n",
              "2013    15243179791\n",
              "2011    14730241341\n",
              "2010    13531204961\n",
              "2009    13423744372\n",
              "2008    11663881990\n",
              "2007    11565911801\n",
              "2004     9634180720\n",
              "2003     9228823312\n",
              "2002     9002361487\n",
              "2005     8981925558\n",
              "2006     8691077320\n",
              "2001     7950614865\n",
              "2000     6101399805\n",
              "Name: profit, dtype: int64"
            ]
          },
          "metadata": {
            "tags": []
          },
          "execution_count": 48
        }
      ]
    },
    {
      "cell_type": "code",
      "metadata": {
        "id": "qILe88NGGC6R"
      },
      "source": [
        "answers['19'] = '5. 2015'"
      ],
      "execution_count": 49,
      "outputs": []
    },
    {
      "cell_type": "markdown",
      "metadata": {
        "id": "cY1QDx8NGTOK"
      },
      "source": [
        "# Вопрос 20. Какой самый прибыльный год для студии Warner Bros?"
      ]
    },
    {
      "cell_type": "code",
      "metadata": {
        "colab": {
          "base_uri": "https://localhost:8080/"
        },
        "id": "4n2yf97CGYJR",
        "outputId": "90654e20-c810-4a45-b993-fde7ed6b8abc"
      },
      "source": [
        "\r\n",
        "data_Warner_Bros = data[data['production_companies'].str.contains('Warner Bros')]\r\n",
        "data_Warner_Bros.groupby('release_year')['profit'].sum().sort_values(ascending=False)"
      ],
      "execution_count": 50,
      "outputs": [
        {
          "output_type": "execute_result",
          "data": {
            "text/plain": [
              "release_year\n",
              "2014    2295464519\n",
              "2007    2201675217\n",
              "2008    2134595031\n",
              "2010    1974712985\n",
              "2011    1871393682\n",
              "2003    1855493377\n",
              "2009    1822454136\n",
              "2013    1636453400\n",
              "2004    1631933725\n",
              "2005    1551980298\n",
              "2001    1343545668\n",
              "2012    1258020056\n",
              "2002    1022709901\n",
              "2015     870368348\n",
              "2006     620170743\n",
              "2000     452631386\n",
              "Name: profit, dtype: int64"
            ]
          },
          "metadata": {
            "tags": []
          },
          "execution_count": 50
        }
      ]
    },
    {
      "cell_type": "code",
      "metadata": {
        "id": "FafWu8aFGyQR"
      },
      "source": [
        "answers['20'] = '1. 2014'"
      ],
      "execution_count": 51,
      "outputs": []
    },
    {
      "cell_type": "markdown",
      "metadata": {
        "id": "ctYGkIhrNvOj"
      },
      "source": [
        "# Вопрос 21. В каком месяце за все годы суммарно вышло больше всего фильмов?"
      ]
    },
    {
      "cell_type": "code",
      "metadata": {
        "id": "7GpY0pUjNxTC"
      },
      "source": [
        "# нужно создать новый столбец месяц\r\n",
        "data['month'] = pd.to_datetime(data['release_date'], infer_datetime_format=True).dt.strftime('%b')"
      ],
      "execution_count": 52,
      "outputs": []
    },
    {
      "cell_type": "code",
      "metadata": {
        "colab": {
          "base_uri": "https://localhost:8080/"
        },
        "id": "G215kAR0OaBk",
        "outputId": "9449c2d2-3336-4d4b-a216-8fcb1565c38f"
      },
      "source": [
        "data_month=data.groupby('month')['profit'].count().sort_values(ascending=False)\r\n",
        "data_month"
      ],
      "execution_count": 53,
      "outputs": [
        {
          "output_type": "execute_result",
          "data": {
            "text/plain": [
              "month\n",
              "Sep    227\n",
              "Dec    190\n",
              "Oct    186\n",
              "Aug    161\n",
              "Mar    156\n",
              "Apr    149\n",
              "Jun    147\n",
              "Nov    146\n",
              "Jul    142\n",
              "May    140\n",
              "Feb    135\n",
              "Jan    110\n",
              "Name: profit, dtype: int64"
            ]
          },
          "metadata": {
            "tags": []
          },
          "execution_count": 53
        }
      ]
    },
    {
      "cell_type": "code",
      "metadata": {
        "id": "T5Ifzz7HOr1T"
      },
      "source": [
        "answers['21'] = '4. Сентябрь'"
      ],
      "execution_count": 54,
      "outputs": []
    },
    {
      "cell_type": "markdown",
      "metadata": {
        "id": "ewgfFDd0PQPm"
      },
      "source": [
        "#Вопрос 22. Сколько суммарно вышло фильмов летом (за июнь, июль, август)?"
      ]
    },
    {
      "cell_type": "code",
      "metadata": {
        "colab": {
          "base_uri": "https://localhost:8080/"
        },
        "id": "DR_2zYcTPSaX",
        "outputId": "2d5fe855-0b38-49c6-b67d-4ac5250431cb"
      },
      "source": [
        "data_month['Jun']+data_month['Aug']+data_month['Jul']"
      ],
      "execution_count": 55,
      "outputs": [
        {
          "output_type": "execute_result",
          "data": {
            "text/plain": [
              "450"
            ]
          },
          "metadata": {
            "tags": []
          },
          "execution_count": 55
        }
      ]
    },
    {
      "cell_type": "code",
      "metadata": {
        "id": "np3TwAMnPq5U"
      },
      "source": [
        "answers['22'] = '2. 450'"
      ],
      "execution_count": 56,
      "outputs": []
    },
    {
      "cell_type": "markdown",
      "metadata": {
        "id": "VkPuK214j2lN"
      },
      "source": [
        "# Вопрос 23. Для какого режиссера зима — самое продуктивное время года?"
      ]
    },
    {
      "cell_type": "code",
      "metadata": {
        "colab": {
          "base_uri": "https://localhost:8080/"
        },
        "id": "wu_qIMbQkK22",
        "outputId": "1c11adcd-3497-426b-e3d7-8954b5f18c88"
      },
      "source": [
        "list_winter = ['Dec', 'Jan', 'Feb']\r\n",
        "winter_counter = Counter()\r\n",
        "for i in range(len(data)):\r\n",
        "     if (data.iloc[i]['month'] in list_winter):  \r\n",
        "         temp_list = data.iloc[i]['director'].split('|')\r\n",
        "         for director in temp_list:\r\n",
        "             winter_counter[director] += 1  \r\n",
        "     else:\r\n",
        "         continue\r\n",
        "\r\n",
        "winter_counter.most_common()\r\n",
        "\r\n"
      ],
      "execution_count": 57,
      "outputs": [
        {
          "output_type": "execute_result",
          "data": {
            "text/plain": [
              "[('Peter Jackson', 7),\n",
              " ('Clint Eastwood', 6),\n",
              " ('Steven Soderbergh', 6),\n",
              " ('Shawn Levy', 4),\n",
              " ('Nancy Meyers', 4),\n",
              " ('Martin Scorsese', 4),\n",
              " ('Adam Shankman', 4),\n",
              " ('Ridley Scott', 3),\n",
              " ('Rob Marshall', 3),\n",
              " ('Tim Burton', 3),\n",
              " ('Steve Carr', 3),\n",
              " ('Patrick Lussier', 3),\n",
              " ('Donald Petrie', 3),\n",
              " ('Marc Lawrence', 3),\n",
              " ('Lasse HallstrÃ¶m', 3),\n",
              " ('Edward Zwick', 3),\n",
              " ('Jason Friedberg', 3),\n",
              " ('Aaron Seltzer', 3),\n",
              " ('Peter Farrelly', 3),\n",
              " ('Steven Spielberg', 3),\n",
              " ('Wayne Wang', 3),\n",
              " ('Quentin Tarantino', 2),\n",
              " ('Adam McKay', 2),\n",
              " ('Michael Mann', 2),\n",
              " ('Glenn Ficarra', 2),\n",
              " ('John Requa', 2),\n",
              " ('Pierre Morel', 2),\n",
              " ('Wes Anderson', 2),\n",
              " ('Paul Thomas Anderson', 2),\n",
              " ('Jaume Collet-Serra', 2),\n",
              " ('George Clooney', 2),\n",
              " ('Shana Feste', 2),\n",
              " ('Ken Kwapis', 2),\n",
              " ('Henry Selick', 2),\n",
              " ('P.J. Hogan', 2),\n",
              " ('David S. Goyer', 2),\n",
              " ('Paul McGuigan', 2),\n",
              " ('Marcus Nispel', 2),\n",
              " ('Andrzej Bartkowiak', 2),\n",
              " ('Scott Cooper', 2),\n",
              " ('Allen Hughes', 2),\n",
              " ('Garry Marshall', 2),\n",
              " ('David O. Russell', 2),\n",
              " ('James L. Brooks', 2),\n",
              " ('Brian Levant', 2),\n",
              " ('Martin Campbell', 2),\n",
              " ('Ron Howard', 2),\n",
              " ('Cameron Crowe', 2),\n",
              " ('Dennis Dugan', 2),\n",
              " ('Mark Waters', 2),\n",
              " ('Thomas Carter', 2),\n",
              " ('Bryan Singer', 2),\n",
              " ('Sylvester Stallone', 2),\n",
              " ('Jon M. Chu', 2),\n",
              " ('Gabriele Muccino', 2),\n",
              " ('Andy Tennant', 2),\n",
              " ('David Wain', 2),\n",
              " ('Brad Anderson', 2),\n",
              " ('Gregory Hoblit', 2),\n",
              " ('Simon West', 2),\n",
              " ('Bobby Farrelly', 2),\n",
              " ('Jason Reitman', 2),\n",
              " ('Joe Carnahan', 2),\n",
              " ('Stephen Daldry', 2),\n",
              " ('John Whitesell', 2),\n",
              " ('Spike Jonze', 2),\n",
              " ('Denzel Washington', 2),\n",
              " ('Mark Steven Johnson', 2),\n",
              " ('John Moore', 2),\n",
              " ('Walter Hill', 2),\n",
              " ('Brett Ratner', 2),\n",
              " ('Peter Segal', 2),\n",
              " ('Francis Lawrence', 2),\n",
              " ('Rob Reiner', 2),\n",
              " ('Wes Craven', 2),\n",
              " ('Mel Gibson', 2),\n",
              " ('Mike Nichols', 2),\n",
              " ('Joel Schumacher', 2),\n",
              " ('J.J. Abrams', 1),\n",
              " ('Alejandro GonzÃ¡lez IÃ±Ã¡rritu', 1),\n",
              " ('Lana Wachowski', 1),\n",
              " ('Lilly Wachowski', 1),\n",
              " ('Alex Garland', 1),\n",
              " ('Olivier Megaton', 1),\n",
              " ('Sam Taylor-Johnson', 1),\n",
              " ('Matthew Vaughn', 1),\n",
              " ('Ericson Core', 1),\n",
              " ('David Koepp', 1),\n",
              " ('Sean Anders', 1),\n",
              " ('Ari Sandel', 1),\n",
              " ('Jeremy Garelick', 1),\n",
              " ('Jason Moore', 1),\n",
              " ('Dean Israelite', 1),\n",
              " ('Paul Tibbitt', 1),\n",
              " ('Mike Binder', 1),\n",
              " ('Evan Goldberg', 1),\n",
              " ('Seth Rogen', 1),\n",
              " ('Phil Lord', 1),\n",
              " ('Christopher Miller', 1),\n",
              " ('Sergey Bodrov', 1),\n",
              " ('J.C. Chandor', 1),\n",
              " ('Tim Story', 1),\n",
              " ('Kenneth Branagh', 1),\n",
              " ('JosÃ© Padilha', 1),\n",
              " ('Rob Minkoff', 1),\n",
              " ('Angelina Jolie', 1),\n",
              " ('Ava DuVernay', 1),\n",
              " ('Paul W.S. Anderson', 1),\n",
              " ('Will Gluck', 1),\n",
              " ('Stuart Beattie', 1),\n",
              " ('Tom Gormican', 1),\n",
              " ('Akiva Goldsman', 1),\n",
              " ('Russell Crowe', 1),\n",
              " ('Steve Pink', 1),\n",
              " ('Christopher Spencer', 1),\n",
              " ('GrÃ©gory Levasseur', 1),\n",
              " ('Renny Harlin', 1),\n",
              " ('Rupert Wyatt', 1),\n",
              " ('Matt Bettinelli-Olpin', 1),\n",
              " ('Tyler Gillett', 1),\n",
              " ('James Cameron', 1),\n",
              " ('Patrick Tatopoulos', 1),\n",
              " ('Guy Ritchie', 1),\n",
              " ('Ron Clements', 1),\n",
              " ('John Musker', 1),\n",
              " ('Jim Sheridan', 1),\n",
              " ('Betty Thomas', 1),\n",
              " ('Gary Winick', 1),\n",
              " ('Michael Spierig', 1),\n",
              " ('Peter Spierig', 1),\n",
              " ('Antoine Fuqua', 1),\n",
              " ('Rajkumar Hirani', 1),\n",
              " ('NimrÃ³d Antal', 1),\n",
              " ('Tom Tykwer', 1),\n",
              " ('Thor Freudenthal', 1),\n",
              " ('Jonas Elmer', 1),\n",
              " ('Darren Aronofsky', 1),\n",
              " ('Joseph Kosinski', 1),\n",
              " ('Florian Henckel von Donnersmarck', 1),\n",
              " ('Ethan Coen', 1),\n",
              " ('Joel Coen', 1),\n",
              " ('Paul Weitz', 1),\n",
              " ('Chris Columbus', 1),\n",
              " ('Albert Hughes', 1),\n",
              " ('Anand Tucker', 1),\n",
              " ('Rob Letterman', 1),\n",
              " ('Roman Polanski', 1),\n",
              " ('Scott Stewart', 1),\n",
              " ('Kevin Smith', 1),\n",
              " ('Neil Marshall', 1),\n",
              " ('Roger Michell', 1),\n",
              " ('Michael Lembeck', 1),\n",
              " ('Breck Eisner', 1),\n",
              " ('Eric Brevig', 1),\n",
              " ('Tom Vaughan', 1),\n",
              " ('John Erick Dowdle', 1),\n",
              " ('Joel Gallen', 1),\n",
              " ('John A. Davis', 1),\n",
              " ('Peter Howitt', 1),\n",
              " ('Jessie Nelson', 1),\n",
              " ('John Boorman', 1),\n",
              " (\"Pat O'Connor\", 1),\n",
              " ('Jesse Dylan', 1),\n",
              " ('Frank Darabont', 1),\n",
              " ('Demian Lichtenstein', 1),\n",
              " ('Francine McDougall', 1),\n",
              " ('Doug Liman', 1),\n",
              " ('Roland Emmerich', 1),\n",
              " ('Scott Derrickson', 1),\n",
              " ('Matt Reeves', 1),\n",
              " ('Peyton Reed', 1),\n",
              " ('David Frankel', 1),\n",
              " ('Anne Fletcher', 1),\n",
              " ('Iain Softley', 1),\n",
              " ('Lexi Alexander', 1),\n",
              " ('Pete Travis', 1),\n",
              " ('Martin McDonagh', 1),\n",
              " ('David Moreau', 1),\n",
              " ('Xavier Palud', 1),\n",
              " ('Frank Miller', 1),\n",
              " ('Sam Mendes', 1),\n",
              " ('Malcolm D. Lee', 1),\n",
              " ('Nicolas Winding Refn', 1),\n",
              " ('Brad Bird', 1),\n",
              " ('David Fincher', 1),\n",
              " ('Ivan Reitman', 1),\n",
              " ('D.J. Caruso', 1),\n",
              " ('Mark Neveldine', 1),\n",
              " ('Brian Taylor', 1),\n",
              " ('Mikael HÃ¥fstrÃ¶m', 1),\n",
              " ('Greg Mottola', 1),\n",
              " ('Dominic Sena', 1),\n",
              " ('Chris Gorak', 1),\n",
              " ('Christian E. Christiansen', 1),\n",
              " ('Michel Gondry', 1),\n",
              " ('Daniel Barnz', 1),\n",
              " ('Mike Mitchell', 1),\n",
              " ('Kelly Asbury', 1),\n",
              " ('Kevin Macdonald', 1),\n",
              " ('David Gordon Green', 1),\n",
              " ('Alister Grierson', 1),\n",
              " ('Benny Chan', 1),\n",
              " ('Phyllida Lloyd', 1),\n",
              " ('Lee Tamahori', 1),\n",
              " ('Rodrigo GarcÃ\\xada', 1),\n",
              " ('Joel Zwick', 1),\n",
              " ('Andrew Davis', 1),\n",
              " ('Stuart Baird', 1),\n",
              " ('Kurt Wimmer', 1),\n",
              " ('Miguel Arteta', 1),\n",
              " ('Jim Gillespie', 1),\n",
              " ('Ron Shelton', 1),\n",
              " ('Nick Cassavetes', 1),\n",
              " ('Michael Rymer', 1),\n",
              " ('Robin Budd', 1),\n",
              " ('Donovan Cook', 1),\n",
              " ('Dewey Nicks', 1),\n",
              " ('Alexander Payne', 1),\n",
              " ('Mark Pellington', 1),\n",
              " ('Tamra Davis', 1),\n",
              " ('Tom Shadyac', 1),\n",
              " ('Charles Stone III', 1),\n",
              " ('MÃ¥ns MÃ¥rlind', 1),\n",
              " ('BjÃ¶rn Stein', 1),\n",
              " ('Christopher McQuarrie', 1),\n",
              " ('Michael Sucsy', 1),\n",
              " ('Brad Peyton', 1),\n",
              " ('Tom Hooper', 1),\n",
              " ('Kathryn Bigelow', 1),\n",
              " ('Josh Trank', 1),\n",
              " ('Mike McCoy', 1),\n",
              " ('Scott Waugh', 1),\n",
              " ('Baltasar KormÃ¡kur', 1),\n",
              " ('Judd Apatow', 1),\n",
              " ('James Watkins', 1),\n",
              " ('Daniel Espinosa', 1),\n",
              " ('Asger Leth', 1),\n",
              " ('Julie Anne Robinson', 1),\n",
              " ('Anthony Hemingway', 1),\n",
              " ('Andy Fickman', 1),\n",
              " ('Steve Trenbirth', 1),\n",
              " ('Todd Phillips', 1),\n",
              " ('David Dobkin', 1),\n",
              " ('John Woo', 1),\n",
              " ('David R. Ellis', 1),\n",
              " ('Anthony Minghella', 1),\n",
              " ('Ronald F. Maxwell', 1),\n",
              " ('Alan Parker', 1),\n",
              " ('Chris Koch', 1),\n",
              " ('Ben Stiller', 1),\n",
              " ('Jonathan Levine', 1),\n",
              " ('Tommy Wirkola', 1),\n",
              " ('Carl Rinsch', 1),\n",
              " ('Peter Berg', 1),\n",
              " ('Harmony Korine', 1),\n",
              " ('Taylor Hackford', 1),\n",
              " ('Ruben Fleischer', 1),\n",
              " ('Seth Gordon', 1),\n",
              " ('John Luessenhop', 1),\n",
              " ('Andy Muschietti', 1),\n",
              " ('Steven Brill', 1),\n",
              " ('Elizabeth Banks', 1),\n",
              " ('Rusty Cundieff', 1),\n",
              " ('James Duffy', 1),\n",
              " ('Griffin Dunne', 1),\n",
              " ('Patrik Forsberg', 1),\n",
              " ('James Gunn', 1),\n",
              " ('Will Graham', 1),\n",
              " ('Jonathan van Tulleken', 1),\n",
              " ('Callan Brunker', 1),\n",
              " ('Giuseppe Tornatore', 1),\n",
              " ('Jonathan Teplitzky', 1),\n",
              " ('Neil Nightingale', 1),\n",
              " ('Barry Cook', 1),\n",
              " ('Ric Roman Waugh', 1),\n",
              " ('John Wells', 1),\n",
              " ('Christopher B. Landon', 1),\n",
              " ('Ed Gass-Donnelly', 1),\n",
              " ('Justin Chadwick', 1),\n",
              " ('Andrew Adamson', 1),\n",
              " ('James McTeigue', 1),\n",
              " ('Garth Jennings', 1),\n",
              " ('Rob Bowman', 1),\n",
              " ('Cory Edwards', 1),\n",
              " ('Todd Edwards', 1),\n",
              " ('Tony Leech', 1),\n",
              " ('John Polson', 1),\n",
              " ('Frederik Du Chau', 1),\n",
              " ('Dean Parisot', 1),\n",
              " ('Louis Leterrier', 1),\n",
              " ('Jean-FranÃ§ois Richet', 1),\n",
              " ('Clare Kilner', 1),\n",
              " ('Geoffrey Sax', 1),\n",
              " ('Uwe Boll', 1),\n",
              " ('Stephen Kay', 1),\n",
              " ('Niki Caro', 1),\n",
              " ('Len Wiseman', 1),\n",
              " ('Frank Marshall', 1),\n",
              " ('James Wong', 1),\n",
              " ('Stefen Fangmeier', 1),\n",
              " ('Robert De Niro', 1),\n",
              " (\"Matthew O'Callaghan\", 1),\n",
              " ('McG', 1),\n",
              " ('Joe Roth', 1),\n",
              " ('Nick Hurran', 1),\n",
              " ('Bill Condon', 1),\n",
              " ('Chris Noonan', 1),\n",
              " ('Craig Brewer', 1),\n",
              " ('Richard Eyre', 1),\n",
              " ('Wayne Kramer', 1),\n",
              " ('Richard Loncraine', 1),\n",
              " ('Glen Morgan', 1),\n",
              " ('Justin Lin', 1),\n",
              " ('Eric Bress', 1),\n",
              " ('J. Mackye Gruber', 1),\n",
              " ('Jay Roach', 1),\n",
              " ('Brad Silberling', 1),\n",
              " ('Jeff Schaffer', 1),\n",
              " ('John Hamburg', 1),\n",
              " ('Philip Kaufman', 1),\n",
              " ('Sara Sugarman', 1),\n",
              " ('Guy Ferland', 1),\n",
              " ('Kevin Rodney Sullivan', 1),\n",
              " ('Joseph Kahn', 1),\n",
              " (\"Gavin O'Connor\", 1),\n",
              " ('Jay Chandrasekhar', 1),\n",
              " ('George Armitage', 1),\n",
              " ('Kevin Allen', 1),\n",
              " ('Jon Turteltaub', 1),\n",
              " ('GÃ¡bor CsupÃ³', 1),\n",
              " ('Tim Hill', 1),\n",
              " ('Chris Weitz', 1),\n",
              " ('Jon Avnet', 1),\n",
              " ('Mennan Yapo', 1),\n",
              " ('Dave Meyers', 1),\n",
              " ('Michael Winterbottom', 1),\n",
              " ('Brian Robbins', 1),\n",
              " ('Richard LaGravenese', 1),\n",
              " ('Jay Russell', 1),\n",
              " ('Jake Kasdan', 1),\n",
              " ('David Leland', 1),\n",
              " ('Peter Webber', 1),\n",
              " ('Tyler Perry', 1),\n",
              " ('Ben Garant', 1),\n",
              " ('Robert Zemeckis', 1),\n",
              " ('Mark Dindal', 1),\n",
              " ('David Twohy', 1),\n",
              " ('Ben Younger', 1),\n",
              " ('Sam Raimi', 1),\n",
              " ('Danny Leiner', 1),\n",
              " ('Jonathan Lynn', 1),\n",
              " ('Roger Donaldson', 1),\n",
              " ('Danny Boyle', 1),\n",
              " ('John Frankenheimer', 1),\n",
              " ('Gus Van Sant', 1),\n",
              " ('Jack Sholder', 1),\n",
              " ('Courtney Solomon', 1),\n",
              " ('Diane Keaton', 1)]"
            ]
          },
          "metadata": {
            "tags": []
          },
          "execution_count": 57
        }
      ]
    },
    {
      "cell_type": "code",
      "metadata": {
        "id": "KhTVBMyKljkD"
      },
      "source": [
        "answers['23'] = '5. Peter Jackson'"
      ],
      "execution_count": 58,
      "outputs": []
    },
    {
      "cell_type": "markdown",
      "metadata": {
        "id": "JLtlwXWXMzIT"
      },
      "source": [
        "#  Вопрос 24. Какая студия даёт самые длинные названия своим фильмам по количеству символов?"
      ]
    },
    {
      "cell_type": "code",
      "metadata": {
        "colab": {
          "base_uri": "https://localhost:8080/",
          "height": 35
        },
        "id": "SXtdcD4sRIJY",
        "outputId": "3897033c-7860-42f9-ab12-2ce8fbeeebef"
      },
      "source": [
        "data['name_length'] = data.original_title.apply(lambda x: len(x))\r\n",
        "data['production_companies'] = data.production_companies.str.split(\"|\")\r\n",
        "companies_df = data.explode('production_companies')\r\n",
        "companies_df.groupby('production_companies').name_length.mean().sort_values(ascending=False).index[0]\r\n"
      ],
      "execution_count": 59,
      "outputs": [
        {
          "output_type": "execute_result",
          "data": {
            "application/vnd.google.colaboratory.intrinsic+json": {
              "type": "string"
            },
            "text/plain": [
              "'Four By Two Productions'"
            ]
          },
          "metadata": {
            "tags": []
          },
          "execution_count": 59
        }
      ]
    },
    {
      "cell_type": "code",
      "metadata": {
        "id": "1QS_IqfePzrV"
      },
      "source": [
        "answers['24'] = '5. Four By Two Productions'"
      ],
      "execution_count": 60,
      "outputs": []
    },
    {
      "cell_type": "markdown",
      "metadata": {
        "id": "M15Fbo5pTb16"
      },
      "source": [
        "# Вопрос 25. Описания фильмов какой студии в среднем самые длинные по количеству слов?"
      ]
    },
    {
      "cell_type": "code",
      "metadata": {
        "colab": {
          "base_uri": "https://localhost:8080/"
        },
        "id": "cJcSHGeD7UEl",
        "outputId": "54d0044e-f78c-4796-d8cc-1deb85ca59b9"
      },
      "source": [
        "data25 = data[[\"obzor\",\"production_companies\"]]\\\r\n",
        "        .explode(\"production_companies\")\r\n",
        "\r\n",
        "data25[\"overview_numwords\"] = data25['obzor'].map(\r\n",
        "    lambda x: len(x.split(\" \")))\r\n",
        "\r\n",
        "data25\\\r\n",
        "        .groupby(by = 'production_companies')\\\r\n",
        "        .overview_numwords.mean()\\\r\n",
        "        .sort_values(ascending = False)\r\n"
      ],
      "execution_count": 74,
      "outputs": [
        {
          "output_type": "execute_result",
          "data": {
            "text/plain": [
              "production_companies\n",
              "Midnight Picture Show                    175.0\n",
              "Room 9 Entertainment                     161.0\n",
              "Heineken Branded Entertainment           161.0\n",
              "98 MPH Productions                       159.0\n",
              "Brookwell-McNamara Entertainment         156.0\n",
              "                                         ...  \n",
              "London Boulevard                          13.0\n",
              "Phantom Four                              13.0\n",
              "Henceforth                                13.0\n",
              "Empire Pictures                           11.0\n",
              "Motion Picture Corporation of America     11.0\n",
              "Name: overview_numwords, Length: 1771, dtype: float64"
            ]
          },
          "metadata": {
            "tags": []
          },
          "execution_count": 74
        }
      ]
    },
    {
      "cell_type": "code",
      "metadata": {
        "id": "02Fa9O0V8GXY"
      },
      "source": [
        "answers['25'] = '3. Midnight Picture Show'"
      ],
      "execution_count": 75,
      "outputs": []
    },
    {
      "cell_type": "markdown",
      "metadata": {
        "id": "2jNioYHQ8bYQ"
      },
      "source": [
        "# Вопрос 26. Какие фильмы входят в один процент лучших по рейтингу?"
      ]
    },
    {
      "cell_type": "code",
      "metadata": {
        "colab": {
          "base_uri": "https://localhost:8080/",
          "height": 462
        },
        "id": "6egFsKB08hLB",
        "outputId": "5f62257b-247c-40e5-e026-673b2874a60a"
      },
      "source": [
        "persent_limit = data['votes'].quantile(0.99)\r\n",
        "\r\n",
        "data.loc[data['votes']>persent_limit][['original_title','votes']]"
      ],
      "execution_count": 76,
      "outputs": [
        {
          "output_type": "execute_result",
          "data": {
            "text/html": [
              "<div>\n",
              "<style scoped>\n",
              "    .dataframe tbody tr th:only-of-type {\n",
              "        vertical-align: middle;\n",
              "    }\n",
              "\n",
              "    .dataframe tbody tr th {\n",
              "        vertical-align: top;\n",
              "    }\n",
              "\n",
              "    .dataframe thead th {\n",
              "        text-align: right;\n",
              "    }\n",
              "</style>\n",
              "<table border=\"1\" class=\"dataframe\">\n",
              "  <thead>\n",
              "    <tr style=\"text-align: right;\">\n",
              "      <th></th>\n",
              "      <th>original_title</th>\n",
              "      <th>votes</th>\n",
              "    </tr>\n",
              "  </thead>\n",
              "  <tbody>\n",
              "    <tr>\n",
              "      <th>9</th>\n",
              "      <td>Inside Out</td>\n",
              "      <td>8.0</td>\n",
              "    </tr>\n",
              "    <tr>\n",
              "      <th>34</th>\n",
              "      <td>Room</td>\n",
              "      <td>8.0</td>\n",
              "    </tr>\n",
              "    <tr>\n",
              "      <th>118</th>\n",
              "      <td>Interstellar</td>\n",
              "      <td>8.0</td>\n",
              "    </tr>\n",
              "    <tr>\n",
              "      <th>119</th>\n",
              "      <td>Guardians of the Galaxy</td>\n",
              "      <td>7.9</td>\n",
              "    </tr>\n",
              "    <tr>\n",
              "      <th>125</th>\n",
              "      <td>The Imitation Game</td>\n",
              "      <td>8.0</td>\n",
              "    </tr>\n",
              "    <tr>\n",
              "      <th>128</th>\n",
              "      <td>Gone Girl</td>\n",
              "      <td>7.9</td>\n",
              "    </tr>\n",
              "    <tr>\n",
              "      <th>138</th>\n",
              "      <td>The Grand Budapest Hotel</td>\n",
              "      <td>7.9</td>\n",
              "    </tr>\n",
              "    <tr>\n",
              "      <th>370</th>\n",
              "      <td>Inception</td>\n",
              "      <td>7.9</td>\n",
              "    </tr>\n",
              "    <tr>\n",
              "      <th>599</th>\n",
              "      <td>The Dark Knight</td>\n",
              "      <td>8.1</td>\n",
              "    </tr>\n",
              "    <tr>\n",
              "      <th>872</th>\n",
              "      <td>The Pianist</td>\n",
              "      <td>7.9</td>\n",
              "    </tr>\n",
              "    <tr>\n",
              "      <th>1081</th>\n",
              "      <td>The Lord of the Rings: The Return of the King</td>\n",
              "      <td>7.9</td>\n",
              "    </tr>\n",
              "    <tr>\n",
              "      <th>1183</th>\n",
              "      <td>The Wolf of Wall Street</td>\n",
              "      <td>7.9</td>\n",
              "    </tr>\n",
              "    <tr>\n",
              "      <th>1191</th>\n",
              "      <td>12 Years a Slave</td>\n",
              "      <td>7.9</td>\n",
              "    </tr>\n",
              "    <tr>\n",
              "      <th>1800</th>\n",
              "      <td>Memento</td>\n",
              "      <td>7.9</td>\n",
              "    </tr>\n",
              "  </tbody>\n",
              "</table>\n",
              "</div>"
            ],
            "text/plain": [
              "                                     original_title  votes\n",
              "9                                        Inside Out    8.0\n",
              "34                                             Room    8.0\n",
              "118                                    Interstellar    8.0\n",
              "119                         Guardians of the Galaxy    7.9\n",
              "125                              The Imitation Game    8.0\n",
              "128                                       Gone Girl    7.9\n",
              "138                        The Grand Budapest Hotel    7.9\n",
              "370                                       Inception    7.9\n",
              "599                                 The Dark Knight    8.1\n",
              "872                                     The Pianist    7.9\n",
              "1081  The Lord of the Rings: The Return of the King    7.9\n",
              "1183                        The Wolf of Wall Street    7.9\n",
              "1191                               12 Years a Slave    7.9\n",
              "1800                                        Memento    7.9"
            ]
          },
          "metadata": {
            "tags": []
          },
          "execution_count": 76
        }
      ]
    },
    {
      "cell_type": "code",
      "metadata": {
        "id": "w5mjdEq59BRq"
      },
      "source": [
        "answers['26'] = '1. Inside Out, The Dark Knight, 12 Years a Slave'"
      ],
      "execution_count": 77,
      "outputs": []
    },
    {
      "cell_type": "markdown",
      "metadata": {
        "id": "i6c-oggB9mrh"
      },
      "source": [
        "# Вопрос 27. Какие актеры чаще всего снимаются в одном фильме вместе?"
      ]
    },
    {
      "cell_type": "code",
      "metadata": {
        "colab": {
          "base_uri": "https://localhost:8080/"
        },
        "id": "jn6H6MkK9tWp",
        "outputId": "846a890c-60ff-446c-e095-db008e183d36"
      },
      "source": [
        "\r\n",
        "actors_and_actor_counter = Counter()\r\n",
        "for i in range(len(data)):\r\n",
        "     temp_list = data.iloc[i]['actors'].split('|')\r\n",
        "     for actor1 in temp_list:\r\n",
        "         new_list = temp_list.copy()\r\n",
        "         new_list.remove(actor1)\r\n",
        "         for actor2 in new_list:\r\n",
        "             actors_and_actor_counter[(actor1, actor2)] += 1\r\n",
        "\r\n",
        "actors_and_actor_counter.most_common(8)"
      ],
      "execution_count": 83,
      "outputs": [
        {
          "output_type": "execute_result",
          "data": {
            "text/plain": [
              "[(('Daniel Radcliffe', 'Rupert Grint'), 8),\n",
              " (('Daniel Radcliffe', 'Emma Watson'), 8),\n",
              " (('Rupert Grint', 'Daniel Radcliffe'), 8),\n",
              " (('Rupert Grint', 'Emma Watson'), 8),\n",
              " (('Emma Watson', 'Daniel Radcliffe'), 8),\n",
              " (('Emma Watson', 'Rupert Grint'), 8),\n",
              " (('Ben Stiller', 'Owen Wilson'), 6),\n",
              " (('Owen Wilson', 'Ben Stiller'), 6)]"
            ]
          },
          "metadata": {
            "tags": []
          },
          "execution_count": 83
        }
      ]
    },
    {
      "cell_type": "code",
      "metadata": {
        "id": "xYZL4ADM-EEK"
      },
      "source": [
        "answers['27'] = '5. Daniel Radcliffe & Rupert Grint'"
      ],
      "execution_count": 84,
      "outputs": []
    },
    {
      "cell_type": "code",
      "metadata": {
        "id": "VomHD1N3-eOe"
      },
      "source": [
        ""
      ],
      "execution_count": null,
      "outputs": []
    },
    {
      "cell_type": "markdown",
      "metadata": {
        "id": "C2VF1WlJ--9Y"
      },
      "source": [
        "# Submission"
      ]
    },
    {
      "cell_type": "code",
      "metadata": {
        "id": "QKASY0uw_RXv"
      },
      "source": [
        "# в конце можно посмотреть свои ответы к каждому вопросу\r\n"
      ],
      "execution_count": 87,
      "outputs": []
    },
    {
      "cell_type": "code",
      "metadata": {
        "colab": {
          "base_uri": "https://localhost:8080/"
        },
        "id": "8c9WsHHL_AtM",
        "outputId": "73ee8fc8-a672-4182-f087-a1623c027cdb"
      },
      "source": [
        "# проверим количество ответов\r\n",
        "len(answers)"
      ],
      "execution_count": 88,
      "outputs": [
        {
          "output_type": "execute_result",
          "data": {
            "text/plain": [
              "27"
            ]
          },
          "metadata": {
            "tags": []
          },
          "execution_count": 88
        }
      ]
    },
    {
      "cell_type": "code",
      "metadata": {
        "id": "zP67CJbc_Jue"
      },
      "source": [
        ""
      ],
      "execution_count": null,
      "outputs": []
    },
    {
      "cell_type": "code",
      "metadata": {
        "id": "vaNE78iuIkpk"
      },
      "source": [
        ""
      ],
      "execution_count": null,
      "outputs": []
    }
  ]
}